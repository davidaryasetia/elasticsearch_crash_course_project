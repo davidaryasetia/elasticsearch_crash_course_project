{
 "cells": [
  {
   "cell_type": "markdown",
   "id": "37357f21",
   "metadata": {},
   "source": [
    "Perform a Bulk API"
   ]
  },
  {
   "cell_type": "code",
   "execution_count": 1,
   "id": "4fcee280",
   "metadata": {},
   "outputs": [
    {
     "name": "stdout",
     "output_type": "stream",
     "text": [
      "Connected to the elasticsearch ✔\n",
      "{'cluster_name': 'elasticsearch',\n",
      " 'cluster_uuid': 'tdYmEtALQyuf5oSJGl74OQ',\n",
      " 'name': 'david-server',\n",
      " 'tagline': 'You Know, for Search',\n",
      " 'version': {'build_date': '2025-06-19T01:37:57.847711500Z',\n",
      "             'build_flavor': 'default',\n",
      "             'build_hash': '580aff1a0064ce4c93293aaab6fcc55e22c10d1c',\n",
      "             'build_snapshot': False,\n",
      "             'build_type': 'deb',\n",
      "             'lucene_version': '8.11.3',\n",
      "             'minimum_index_compatibility_version': '6.0.0-beta1',\n",
      "             'minimum_wire_compatibility_version': '6.8.0',\n",
      "             'number': '7.17.29'}}\n"
     ]
    }
   ],
   "source": [
    "# Connected to the elasticsearch \n",
    "from pprint import pprint \n",
    "from elasticsearch import Elasticsearch \n",
    "from config.development import Config\n",
    "\n",
    "es = Elasticsearch(\n",
    "    Config.ES_HOST, \n",
    "    verify_certs=True, \n",
    "    basic_auth=(Config.ES_USERNAME, Config.ES_PASSWORD)\n",
    ")\n",
    "\n",
    "client = es.info()\n",
    "print(\"Connected to the elasticsearch ✔\")\n",
    "pprint(client.body)"
   ]
  },
  {
   "cell_type": "code",
   "execution_count": 2,
   "id": "7384a8b1",
   "metadata": {},
   "outputs": [
    {
     "data": {
      "text/plain": [
       "ObjectApiResponse({'acknowledged': True, 'shards_acknowledged': True, 'index': 'my_index'})"
      ]
     },
     "execution_count": 2,
     "metadata": {},
     "output_type": "execute_result"
    }
   ],
   "source": [
    "# Make an index \n",
    "es.indices.delete(index=\"my_index\", ignore_unavailable=True)\n",
    "es.indices.create(index=\"my_index\")"
   ]
  },
  {
   "cell_type": "code",
   "execution_count": 3,
   "id": "00dd774e",
   "metadata": {},
   "outputs": [
    {
     "name": "stderr",
     "output_type": "stream",
     "text": [
      "100%|██████████| 5/5 [00:00<00:00, 30.73it/s]\n"
     ]
    }
   ],
   "source": [
    "import json\n",
    "from tqdm import tqdm\n",
    "\n",
    "# Make a document from dummy_data.json\n",
    "document_ids = []\n",
    "dummy_data = json.load(open(\"../data/dummy_data.json\"))\n",
    "\n",
    "for document in tqdm(dummy_data, total=len(dummy_data)):\n",
    "    response = es.index(index=\"my_index\", body=document)\n",
    "    document_ids.append(response[\"_id\"])"
   ]
  },
  {
   "cell_type": "code",
   "execution_count": 4,
   "id": "2e326c13",
   "metadata": {},
   "outputs": [
    {
     "data": {
      "text/plain": [
       "['0u4e8ZkBtfwvgmKSPsDe',\n",
       " '0-4e8ZkBtfwvgmKSP8Ad',\n",
       " '1O4e8ZkBtfwvgmKSP8A2',\n",
       " '1e4e8ZkBtfwvgmKSP8BP',\n",
       " '1u4e8ZkBtfwvgmKSP8Bo']"
      ]
     },
     "execution_count": 4,
     "metadata": {},
     "output_type": "execute_result"
    }
   ],
   "source": [
    "document_ids"
   ]
  },
  {
   "cell_type": "code",
   "execution_count": 5,
   "id": "132ada77",
   "metadata": {},
   "outputs": [],
   "source": [
    "# Update the index document \n",
    "response = es.update(\n",
    "    index=\"my_index\", \n",
    "    id = document_ids[0], \n",
    "    script = {\n",
    "        \"source\": \"ctx._source.title = params.title\", \n",
    "        \"params\": {\n",
    "            \"title\": \"Testing new data\"\n",
    "        }\n",
    "    }\n",
    ")"
   ]
  },
  {
   "cell_type": "code",
   "execution_count": 6,
   "id": "9acf612b",
   "metadata": {},
   "outputs": [
    {
     "name": "stdout",
     "output_type": "stream",
     "text": [
      "{'_id': '0u4e8ZkBtfwvgmKSPsDe',\n",
      " '_index': 'my_index',\n",
      " '_primary_term': 1,\n",
      " '_seq_no': 5,\n",
      " '_source': {'content': 'This is sample content first entry',\n",
      "             'created_on': '2023-10-01',\n",
      "             'title': 'Testing new data'},\n",
      " '_type': '_doc',\n",
      " '_version': 2,\n",
      " 'found': True}\n"
     ]
    }
   ],
   "source": [
    "# Testing to response in here \n",
    "response = es.get(index=\"my_index\", id=document_ids[0])\n",
    "pprint(response.body)"
   ]
  },
  {
   "cell_type": "code",
   "execution_count": 7,
   "id": "976e0310",
   "metadata": {},
   "outputs": [
    {
     "data": {
      "text/plain": [
       "ObjectApiResponse({'_index': 'my_index', '_type': '_doc', '_id': '0-4e8ZkBtfwvgmKSP8Ad', '_version': 2, 'result': 'updated', '_shards': {'total': 2, 'successful': 1, 'failed': 0}, '_seq_no': 6, '_primary_term': 1})"
      ]
     },
     "execution_count": 7,
     "metadata": {},
     "output_type": "execute_result"
    }
   ],
   "source": [
    "# Update with the testing in second index \n",
    "response = es.update(\n",
    "    index=\"my_index\", \n",
    "    id = document_ids[1], \n",
    "    script = {\n",
    "        \"source\": \"ctx._source.new_field = 'Dummy data fields'\"\n",
    "    }\n",
    ")\n",
    "response"
   ]
  },
  {
   "cell_type": "code",
   "execution_count": 8,
   "id": "bfab59bb",
   "metadata": {},
   "outputs": [
    {
     "name": "stdout",
     "output_type": "stream",
     "text": [
      "{'_id': '1O4e8ZkBtfwvgmKSP8A2',\n",
      " '_index': 'my_index',\n",
      " '_primary_term': 1,\n",
      " '_seq_no': 2,\n",
      " '_source': {'content': 'This is sample content third entry',\n",
      "             'created_on': '2023-10-03',\n",
      "             'title': 'Sample title 3'},\n",
      " '_type': '_doc',\n",
      " '_version': 1,\n",
      " 'found': True}\n"
     ]
    }
   ],
   "source": [
    "# Testing and response data \n",
    "response = es.get(index=\"my_index\", id=document_ids[2])\n",
    "pprint(response.body)"
   ]
  },
  {
   "cell_type": "markdown",
   "id": "d24a2f63",
   "metadata": {},
   "source": [
    "Bulk API -> We executeed each operation one at time, with each action requiring a separate API call. This approach is slow and ineficient. Now, let's see how to accomplisih the same task using the bulk API."
   ]
  },
  {
   "cell_type": "code",
   "execution_count": 9,
   "id": "980fad23",
   "metadata": {},
   "outputs": [
    {
     "data": {
      "text/plain": [
       "ObjectApiResponse({'acknowledged': True, 'shards_acknowledged': True, 'index': 'my_index'})"
      ]
     },
     "execution_count": 9,
     "metadata": {},
     "output_type": "execute_result"
    }
   ],
   "source": [
    "# Test for perform bulk api \n",
    "es.indices.delete(index=\"my_index\", ignore_unavailable=True)\n",
    "es.indices.create(index=\"my_index\")"
   ]
  },
  {
   "cell_type": "code",
   "execution_count": 10,
   "id": "827855e6",
   "metadata": {},
   "outputs": [],
   "source": [
    "# Perform the elasticsearch bulk API\n",
    "response = es.bulk(\n",
    "    operations=[\n",
    "        # Operation 1\n",
    "        {\n",
    "            \"index\": {\n",
    "                \"_id\": 1,\n",
    "                \"_index\": \"my_index\"\n",
    "            }\n",
    "        },\n",
    "        # Source\n",
    "        {\n",
    "            \"title\": \"Sample title 1\",\n",
    "            \"content\": \"This is sample content first entry\",\n",
    "            \"created_on\": \"2023-10-01\"\n",
    "        },\n",
    "\n",
    "        # Operation 2\n",
    "        {\n",
    "            \"index\": {\n",
    "                \"_id\": 2,\n",
    "                \"_index\": \"my_index\"\n",
    "            }\n",
    "        },\n",
    "        # source\n",
    "        {\n",
    "            \"title\": \"Sample title 2\",\n",
    "            \"content\": \"This is sample content second entry\",\n",
    "            \"created_on\": \"2023-10-02\"\n",
    "        },\n",
    "\n",
    "        # Operation 3\n",
    "        {\n",
    "            \"index\": {\n",
    "                \"_id\": 3,\n",
    "                \"_index\": \"my_index\"\n",
    "            }\n",
    "        },\n",
    "        # Source\n",
    "        {\n",
    "            \"title\": \"Sample title 3\",\n",
    "            \"content\": \"This is sample content third entry\",\n",
    "            \"created_on\": \"2023-10-03\"\n",
    "        },\n",
    "\n",
    "        # Operation 4\n",
    "        {\n",
    "            \"update\": {\n",
    "                \"_id\": 1,\n",
    "                \"_index\": \"my_index\"\n",
    "            }\n",
    "        },\n",
    "        # source\n",
    "        {\n",
    "            \"doc\": {\n",
    "                \"title\": \"Updated the title in the first index\"\n",
    "            }\n",
    "        },\n",
    "\n",
    "        # Operation 5\n",
    "        {\n",
    "            \"update\": {\n",
    "                \"_id\": 2,\n",
    "                \"_index\": \"my_index\"\n",
    "            }\n",
    "        }, \n",
    "        # source \n",
    "        {\n",
    "            \"doc\": {\n",
    "                \"newfield\": \"Add new field in the document\"\n",
    "            }\n",
    "        }, \n",
    "        \n",
    "        # Operation 6\n",
    "        {\n",
    "            \"delete\": {\n",
    "                \"_id\": 3, \n",
    "                \"_index\": \"my_index\"\n",
    "            }\n",
    "        }, \n",
    "        \n",
    "    ]\n",
    ")"
   ]
  },
  {
   "cell_type": "code",
   "execution_count": 11,
   "id": "798dddd1",
   "metadata": {},
   "outputs": [
    {
     "name": "stdout",
     "output_type": "stream",
     "text": [
      "{'cluster_name': 'elasticsearch',\n",
      " 'cluster_uuid': 'tdYmEtALQyuf5oSJGl74OQ',\n",
      " 'name': 'david-server',\n",
      " 'tagline': 'You Know, for Search',\n",
      " 'version': {'build_date': '2025-06-19T01:37:57.847711500Z',\n",
      "             'build_flavor': 'default',\n",
      "             'build_hash': '580aff1a0064ce4c93293aaab6fcc55e22c10d1c',\n",
      "             'build_snapshot': False,\n",
      "             'build_type': 'deb',\n",
      "             'lucene_version': '8.11.3',\n",
      "             'minimum_index_compatibility_version': '6.0.0-beta1',\n",
      "             'minimum_wire_compatibility_version': '6.8.0',\n",
      "             'number': '7.17.29'}}\n"
     ]
    }
   ],
   "source": [
    "from pprint import pprint \n",
    "\n",
    "pprint(es.info().body)"
   ]
  },
  {
   "cell_type": "code",
   "execution_count": 12,
   "id": "d5d877d6",
   "metadata": {},
   "outputs": [
    {
     "name": "stdout",
     "output_type": "stream",
     "text": [
      "{'_shards': {'failed': 0, 'skipped': 0, 'successful': 1, 'total': 1},\n",
      " 'hits': {'hits': [],\n",
      "          'max_score': None,\n",
      "          'total': {'relation': 'eq', 'value': 0}},\n",
      " 'timed_out': False,\n",
      " 'took': 0}\n"
     ]
    }
   ],
   "source": [
    "# Perform to return all the data query \n",
    "from pprint import pprint \n",
    "\n",
    "# pprint(es.info().body)\n",
    "doc = {\n",
    "    \"size\": 10000, \n",
    "    \"query\": {\n",
    "        \"match_all\": {}\n",
    "    }\n",
    "}\n",
    "\n",
    "response = es.search(index=\"my_index\", body=doc)\n",
    "pprint(response.body)"
   ]
  }
 ],
 "metadata": {
  "kernelspec": {
   "display_name": "venv (3.8.10)",
   "language": "python",
   "name": "python3"
  },
  "language_info": {
   "codemirror_mode": {
    "name": "ipython",
    "version": 3
   },
   "file_extension": ".py",
   "mimetype": "text/x-python",
   "name": "python",
   "nbconvert_exporter": "python",
   "pygments_lexer": "ipython3",
   "version": "3.8.10"
  }
 },
 "nbformat": 4,
 "nbformat_minor": 5
}
