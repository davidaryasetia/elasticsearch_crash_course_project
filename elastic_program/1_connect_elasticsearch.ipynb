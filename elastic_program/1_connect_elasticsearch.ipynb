{
 "cells": [
  {
   "cell_type": "markdown",
   "id": "9bedb8b7",
   "metadata": {},
   "source": [
    "First project setup to running SetupPythonVirtualEnvirontment.bat"
   ]
  },
  {
   "cell_type": "markdown",
   "id": "3b9c8011",
   "metadata": {},
   "source": [
    "1. How To connection with the Elasticsearch "
   ]
  },
  {
   "cell_type": "code",
   "execution_count": null,
   "id": "da5cc13b",
   "metadata": {},
   "outputs": [
    {
     "ename": "ModuleNotFoundError",
     "evalue": "No module named 'config'",
     "output_type": "error",
     "traceback": [
      "\u001b[1;31m---------------------------------------------------------------------------\u001b[0m",
      "\u001b[1;31mModuleNotFoundError\u001b[0m                       Traceback (most recent call last)",
      "Cell \u001b[1;32mIn[4], line 4\u001b[0m\n\u001b[0;32m      2\u001b[0m \u001b[38;5;28;01mfrom\u001b[39;00m\u001b[38;5;250m \u001b[39m\u001b[38;5;21;01mpprint\u001b[39;00m\u001b[38;5;250m \u001b[39m\u001b[38;5;28;01mimport\u001b[39;00m pprint\n\u001b[0;32m      3\u001b[0m \u001b[38;5;28;01mfrom\u001b[39;00m\u001b[38;5;250m \u001b[39m\u001b[38;5;21;01melasticsearch\u001b[39;00m\u001b[38;5;250m \u001b[39m\u001b[38;5;28;01mimport\u001b[39;00m Elasticsearch\n\u001b[1;32m----> 4\u001b[0m \u001b[38;5;28;01mfrom\u001b[39;00m\u001b[38;5;250m \u001b[39m\u001b[38;5;21;01mconfig\u001b[39;00m\u001b[38;5;21;01m.\u001b[39;00m\u001b[38;5;21;01mdevelopment\u001b[39;00m\u001b[38;5;250m \u001b[39m\u001b[38;5;28;01mimport\u001b[39;00m ELASTIC_HOST, ELASTIC_USERNAME, ELASTIC_PASSWORD\n\u001b[0;32m      6\u001b[0m es \u001b[38;5;241m=\u001b[39m Elasticsearch(\n\u001b[0;32m      7\u001b[0m     ELASTIC_HOST, \n\u001b[0;32m      8\u001b[0m     verify_certs\u001b[38;5;241m=\u001b[39m\u001b[38;5;28;01mTrue\u001b[39;00m,\n\u001b[0;32m      9\u001b[0m     basic_auth \u001b[38;5;241m=\u001b[39m (ELASTIC_USERNAME, ELASTIC_PASSWORD)\n\u001b[0;32m     10\u001b[0m )\n\u001b[0;32m     13\u001b[0m client_info \u001b[38;5;241m=\u001b[39m es\u001b[38;5;241m.\u001b[39minfo()\n",
      "\u001b[1;31mModuleNotFoundError\u001b[0m: No module named 'config'"
     ]
    }
   ],
   "source": [
    "# Simple connection to elasticsearch \n",
    "from pprint import pprint\n",
    "from elasticsearch import Elasticsearch\n",
    "from config.development import Config\n",
    "\n",
    "es = Elasticsearch(\n",
    "    Config.ES_HOST, \n",
    "    verify_certs=True,\n",
    "    basic_auth = (Config.ES_USERNAME, Config.ES_PASSWORD)\n",
    ")\n",
    "\n",
    "\n",
    "client_info = es.info()\n",
    "print(\"Success connected to elastic client ✔\")\n",
    "pprint(client_info.body)"
   ]
  },
  {
   "cell_type": "code",
   "execution_count": 5,
   "id": "c202f979",
   "metadata": {},
   "outputs": [
    {
     "ename": "ModuleNotFoundError",
     "evalue": "No module named 'config'",
     "output_type": "error",
     "traceback": [
      "\u001b[1;31m---------------------------------------------------------------------------\u001b[0m",
      "\u001b[1;31mModuleNotFoundError\u001b[0m                       Traceback (most recent call last)",
      "Cell \u001b[1;32mIn[5], line 1\u001b[0m\n\u001b[1;32m----> 1\u001b[0m \u001b[38;5;28;01mfrom\u001b[39;00m\u001b[38;5;250m \u001b[39m\u001b[38;5;21;01mconfig\u001b[39;00m\u001b[38;5;21;01m.\u001b[39;00m\u001b[38;5;21;01mdevelopment\u001b[39;00m\u001b[38;5;250m \u001b[39m\u001b[38;5;28;01mimport\u001b[39;00m Config\n",
      "\u001b[1;31mModuleNotFoundError\u001b[0m: No module named 'config'"
     ]
    }
   ],
   "source": [
    "from config.development import Config\n"
   ]
  },
  {
   "cell_type": "markdown",
   "id": "b2e8374d",
   "metadata": {},
   "source": [
    "2. Tutorial to Create and Index with or Without Shard and replicas"
   ]
  },
  {
   "cell_type": "code",
   "execution_count": 2,
   "id": "c529e9de",
   "metadata": {},
   "outputs": [
    {
     "data": {
      "text/plain": [
       "ObjectApiResponse({'acknowledged': True, 'shards_acknowledged': True, 'index': 'my_index'})"
      ]
     },
     "execution_count": 2,
     "metadata": {},
     "output_type": "execute_result"
    }
   ],
   "source": [
    "# Create and Index\n",
    "# 1. Simple way to create an index \n",
    "es.indices.delete(index='my_index', ignore_unavailable=True)\n",
    "es.indices.create(index='my_index')\n"
   ]
  },
  {
   "cell_type": "code",
   "execution_count": 2,
   "id": "26360113",
   "metadata": {},
   "outputs": [
    {
     "data": {
      "text/plain": [
       "ObjectApiResponse({'acknowledged': True, 'shards_acknowledged': True, 'index': 'my_index'})"
      ]
     },
     "execution_count": 2,
     "metadata": {},
     "output_type": "execute_result"
    }
   ],
   "source": [
    "# 2. Specify the Number Of replicas and shards\n",
    "# shards : Elasticsearch is divides the data into mutiple shards. Each shard is a self-contained index that Elasticsearch can distribute accross multiple nodes in a cluster. \n",
    "# Shards are managed automatically but configured when creating the index. \n",
    "es.indices.delete(index='my_index', ignore_unavailable=True)\n",
    "es.indices.create(\n",
    "    index='my_index', \n",
    "    settings={\n",
    "        \"index\": {\n",
    "            \"number_of_shards\": 3, \n",
    "            \"number_of_replicas\": 2\n",
    "        }\n",
    "    }\n",
    ")"
   ]
  },
  {
   "cell_type": "markdown",
   "id": "2a41a646",
   "metadata": {},
   "source": [
    "4. How to Inserting documents into index in elasticsearch. Explain what is document in elasticsearch."
   ]
  },
  {
   "cell_type": "code",
   "execution_count": null,
   "id": "02f4805f",
   "metadata": {},
   "outputs": [],
   "source": []
  },
  {
   "cell_type": "code",
   "execution_count": 10,
   "id": "5f07d50b",
   "metadata": {},
   "outputs": [
    {
     "data": {
      "text/plain": [
       "ObjectApiResponse({'acknowledged': True, 'shards_acknowledged': True, 'index': 'my_index'})"
      ]
     },
     "execution_count": 10,
     "metadata": {},
     "output_type": "execute_result"
    }
   ],
   "source": [
    "# 1. Create a dummy index first\n",
    "es.indices.delete(index='my_index', ignore_unavailable=True)\n",
    "es.indices.create(index='my_index')\n"
   ]
  },
  {
   "cell_type": "code",
   "execution_count": 12,
   "id": "25b37ccb",
   "metadata": {},
   "outputs": [
    {
     "name": "stdout",
     "output_type": "stream",
     "text": [
      "{'_id': 'tVyl65kB3GCK3pvL2fu8',\n",
      " '_index': 'my_index',\n",
      " '_primary_term': 1,\n",
      " '_seq_no': 1,\n",
      " '_shards': {'failed': 0, 'successful': 1, 'total': 2},\n",
      " '_type': '_doc',\n",
      " '_version': 1,\n",
      " 'result': 'created'}\n",
      "---------------------------\n"
     ]
    }
   ],
   "source": [
    "from pprint import pprint\n",
    "# 2. Create a dummy document with 3 fields\n",
    "document = {\n",
    "    \"content\": \"Content of the pages\",\n",
    "    \"title\": \"This is title\", \n",
    "    \"pages\": \"50\", \n",
    "    \"authors\": \"John Wick\", \n",
    "    \"created_on\": \"2025-10-20\"\n",
    "}\n",
    "\n",
    "response = es.index(index=\"my_index\", body=document)\n",
    "pprint(response.body)\n",
    "print (\"---------------------------\")\n",
    "# response_data = es.get(index=\"my_index\")\n",
    "# # pprint(response_data.body)"
   ]
  },
  {
   "cell_type": "markdown",
   "id": "4c2f591e",
   "metadata": {},
   "source": [
    "The response object contains the result of operation. If we successfully inserted the document result = created\n"
   ]
  },
  {
   "cell_type": "code",
   "execution_count": null,
   "id": "7cacac1d",
   "metadata": {},
   "outputs": [
    {
     "ename": "NotFoundError",
     "evalue": "NotFoundError(404, \"{'_index': 'my_index', '_type': '_doc', '_id': '0', 'found': False}\")",
     "output_type": "error",
     "traceback": [
      "\u001b[1;31m---------------------------------------------------------------------------\u001b[0m",
      "\u001b[1;31mNotFoundError\u001b[0m                             Traceback (most recent call last)",
      "Cell \u001b[1;32mIn[16], line 1\u001b[0m\n\u001b[1;32m----> 1\u001b[0m response \u001b[38;5;241m=\u001b[39m \u001b[43mes\u001b[49m\u001b[38;5;241;43m.\u001b[39;49m\u001b[43mget\u001b[49m\u001b[43m(\u001b[49m\u001b[43mindex\u001b[49m\u001b[38;5;241;43m=\u001b[39;49m\u001b[38;5;124;43m\"\u001b[39;49m\u001b[38;5;124;43mmy_index\u001b[39;49m\u001b[38;5;124;43m\"\u001b[39;49m\u001b[43m,\u001b[49m\u001b[43m \u001b[49m\u001b[38;5;28;43mid\u001b[39;49m\u001b[38;5;241;43m=\u001b[39;49m\u001b[43m[\u001b[49m\u001b[38;5;241;43m0\u001b[39;49m\u001b[43m]\u001b[49m\u001b[43m)\u001b[49m\n\u001b[0;32m      2\u001b[0m \u001b[38;5;66;03m# print(response[\"result\"])\u001b[39;00m\n",
      "File \u001b[1;32md:\\project_elasticsearch\\venv\\lib\\site-packages\\elasticsearch\\_sync\\client\\utils.py:415\u001b[0m, in \u001b[0;36m_rewrite_parameters.<locals>.wrapper.<locals>.wrapped\u001b[1;34m(*args, **kwargs)\u001b[0m\n\u001b[0;32m    412\u001b[0m         \u001b[38;5;28;01mexcept\u001b[39;00m \u001b[38;5;167;01mKeyError\u001b[39;00m:\n\u001b[0;32m    413\u001b[0m             \u001b[38;5;28;01mpass\u001b[39;00m\n\u001b[1;32m--> 415\u001b[0m \u001b[38;5;28;01mreturn\u001b[39;00m \u001b[43mapi\u001b[49m\u001b[43m(\u001b[49m\u001b[38;5;241;43m*\u001b[39;49m\u001b[43margs\u001b[49m\u001b[43m,\u001b[49m\u001b[43m \u001b[49m\u001b[38;5;241;43m*\u001b[39;49m\u001b[38;5;241;43m*\u001b[39;49m\u001b[43mkwargs\u001b[49m\u001b[43m)\u001b[49m\n",
      "File \u001b[1;32md:\\project_elasticsearch\\venv\\lib\\site-packages\\elasticsearch\\_sync\\client\\__init__.py:2389\u001b[0m, in \u001b[0;36mElasticsearch.get\u001b[1;34m(self, index, id, error_trace, filter_path, force_synthetic_source, human, preference, pretty, realtime, refresh, routing, source, source_excludes, source_includes, stored_fields, version, version_type)\u001b[0m\n\u001b[0;32m   2387\u001b[0m     __query[\u001b[38;5;124m\"\u001b[39m\u001b[38;5;124mversion_type\u001b[39m\u001b[38;5;124m\"\u001b[39m] \u001b[38;5;241m=\u001b[39m version_type\n\u001b[0;32m   2388\u001b[0m __headers \u001b[38;5;241m=\u001b[39m {\u001b[38;5;124m\"\u001b[39m\u001b[38;5;124maccept\u001b[39m\u001b[38;5;124m\"\u001b[39m: \u001b[38;5;124m\"\u001b[39m\u001b[38;5;124mapplication/json\u001b[39m\u001b[38;5;124m\"\u001b[39m}\n\u001b[1;32m-> 2389\u001b[0m \u001b[38;5;28;01mreturn\u001b[39;00m \u001b[38;5;28;43mself\u001b[39;49m\u001b[38;5;241;43m.\u001b[39;49m\u001b[43mperform_request\u001b[49m\u001b[43m(\u001b[49m\u001b[43m  \u001b[49m\u001b[38;5;66;43;03m# type: ignore[return-value]\u001b[39;49;00m\n\u001b[0;32m   2390\u001b[0m \u001b[43m    \u001b[49m\u001b[38;5;124;43m\"\u001b[39;49m\u001b[38;5;124;43mGET\u001b[39;49m\u001b[38;5;124;43m\"\u001b[39;49m\u001b[43m,\u001b[49m\n\u001b[0;32m   2391\u001b[0m \u001b[43m    \u001b[49m\u001b[43m__path\u001b[49m\u001b[43m,\u001b[49m\n\u001b[0;32m   2392\u001b[0m \u001b[43m    \u001b[49m\u001b[43mparams\u001b[49m\u001b[38;5;241;43m=\u001b[39;49m\u001b[43m__query\u001b[49m\u001b[43m,\u001b[49m\n\u001b[0;32m   2393\u001b[0m \u001b[43m    \u001b[49m\u001b[43mheaders\u001b[49m\u001b[38;5;241;43m=\u001b[39;49m\u001b[43m__headers\u001b[49m\u001b[43m,\u001b[49m\n\u001b[0;32m   2394\u001b[0m \u001b[43m    \u001b[49m\u001b[43mendpoint_id\u001b[49m\u001b[38;5;241;43m=\u001b[39;49m\u001b[38;5;124;43m\"\u001b[39;49m\u001b[38;5;124;43mget\u001b[39;49m\u001b[38;5;124;43m\"\u001b[39;49m\u001b[43m,\u001b[49m\n\u001b[0;32m   2395\u001b[0m \u001b[43m    \u001b[49m\u001b[43mpath_parts\u001b[49m\u001b[38;5;241;43m=\u001b[39;49m\u001b[43m__path_parts\u001b[49m\u001b[43m,\u001b[49m\n\u001b[0;32m   2396\u001b[0m \u001b[43m\u001b[49m\u001b[43m)\u001b[49m\n",
      "File \u001b[1;32md:\\project_elasticsearch\\venv\\lib\\site-packages\\elasticsearch\\_sync\\client\\_base.py:271\u001b[0m, in \u001b[0;36mBaseClient.perform_request\u001b[1;34m(self, method, path, params, headers, body, endpoint_id, path_parts)\u001b[0m\n\u001b[0;32m    255\u001b[0m \u001b[38;5;28;01mdef\u001b[39;00m\u001b[38;5;250m \u001b[39m\u001b[38;5;21mperform_request\u001b[39m(\n\u001b[0;32m    256\u001b[0m     \u001b[38;5;28mself\u001b[39m,\n\u001b[0;32m    257\u001b[0m     method: \u001b[38;5;28mstr\u001b[39m,\n\u001b[1;32m   (...)\u001b[0m\n\u001b[0;32m    264\u001b[0m     path_parts: Optional[Mapping[\u001b[38;5;28mstr\u001b[39m, Any]] \u001b[38;5;241m=\u001b[39m \u001b[38;5;28;01mNone\u001b[39;00m,\n\u001b[0;32m    265\u001b[0m ) \u001b[38;5;241m-\u001b[39m\u001b[38;5;241m>\u001b[39m ApiResponse[Any]:\n\u001b[0;32m    266\u001b[0m     \u001b[38;5;28;01mwith\u001b[39;00m \u001b[38;5;28mself\u001b[39m\u001b[38;5;241m.\u001b[39m_otel\u001b[38;5;241m.\u001b[39mspan(\n\u001b[0;32m    267\u001b[0m         method,\n\u001b[0;32m    268\u001b[0m         endpoint_id\u001b[38;5;241m=\u001b[39mendpoint_id,\n\u001b[0;32m    269\u001b[0m         path_parts\u001b[38;5;241m=\u001b[39mpath_parts \u001b[38;5;129;01mor\u001b[39;00m {},\n\u001b[0;32m    270\u001b[0m     ) \u001b[38;5;28;01mas\u001b[39;00m otel_span:\n\u001b[1;32m--> 271\u001b[0m         response \u001b[38;5;241m=\u001b[39m \u001b[38;5;28;43mself\u001b[39;49m\u001b[38;5;241;43m.\u001b[39;49m\u001b[43m_perform_request\u001b[49m\u001b[43m(\u001b[49m\n\u001b[0;32m    272\u001b[0m \u001b[43m            \u001b[49m\u001b[43mmethod\u001b[49m\u001b[43m,\u001b[49m\n\u001b[0;32m    273\u001b[0m \u001b[43m            \u001b[49m\u001b[43mpath\u001b[49m\u001b[43m,\u001b[49m\n\u001b[0;32m    274\u001b[0m \u001b[43m            \u001b[49m\u001b[43mparams\u001b[49m\u001b[38;5;241;43m=\u001b[39;49m\u001b[43mparams\u001b[49m\u001b[43m,\u001b[49m\n\u001b[0;32m    275\u001b[0m \u001b[43m            \u001b[49m\u001b[43mheaders\u001b[49m\u001b[38;5;241;43m=\u001b[39;49m\u001b[43mheaders\u001b[49m\u001b[43m,\u001b[49m\n\u001b[0;32m    276\u001b[0m \u001b[43m            \u001b[49m\u001b[43mbody\u001b[49m\u001b[38;5;241;43m=\u001b[39;49m\u001b[43mbody\u001b[49m\u001b[43m,\u001b[49m\n\u001b[0;32m    277\u001b[0m \u001b[43m            \u001b[49m\u001b[43motel_span\u001b[49m\u001b[38;5;241;43m=\u001b[39;49m\u001b[43motel_span\u001b[49m\u001b[43m,\u001b[49m\n\u001b[0;32m    278\u001b[0m \u001b[43m        \u001b[49m\u001b[43m)\u001b[49m\n\u001b[0;32m    279\u001b[0m         otel_span\u001b[38;5;241m.\u001b[39mset_elastic_cloud_metadata(response\u001b[38;5;241m.\u001b[39mmeta\u001b[38;5;241m.\u001b[39mheaders)\n\u001b[0;32m    280\u001b[0m         \u001b[38;5;28;01mreturn\u001b[39;00m response\n",
      "File \u001b[1;32md:\\project_elasticsearch\\venv\\lib\\site-packages\\elasticsearch\\_sync\\client\\_base.py:351\u001b[0m, in \u001b[0;36mBaseClient._perform_request\u001b[1;34m(self, method, path, params, headers, body, otel_span)\u001b[0m\n\u001b[0;32m    348\u001b[0m         \u001b[38;5;28;01mexcept\u001b[39;00m (\u001b[38;5;167;01mValueError\u001b[39;00m, \u001b[38;5;167;01mKeyError\u001b[39;00m, \u001b[38;5;167;01mTypeError\u001b[39;00m):\n\u001b[0;32m    349\u001b[0m             \u001b[38;5;28;01mpass\u001b[39;00m\n\u001b[1;32m--> 351\u001b[0m     \u001b[38;5;28;01mraise\u001b[39;00m HTTP_EXCEPTIONS\u001b[38;5;241m.\u001b[39mget(meta\u001b[38;5;241m.\u001b[39mstatus, ApiError)(\n\u001b[0;32m    352\u001b[0m         message\u001b[38;5;241m=\u001b[39mmessage, meta\u001b[38;5;241m=\u001b[39mmeta, body\u001b[38;5;241m=\u001b[39mresp_body\n\u001b[0;32m    353\u001b[0m     )\n\u001b[0;32m    355\u001b[0m \u001b[38;5;66;03m# 'X-Elastic-Product: Elasticsearch' should be on every 2XX response.\u001b[39;00m\n\u001b[0;32m    356\u001b[0m \u001b[38;5;28;01mif\u001b[39;00m \u001b[38;5;129;01mnot\u001b[39;00m \u001b[38;5;28mself\u001b[39m\u001b[38;5;241m.\u001b[39m_verified_elasticsearch:\n\u001b[0;32m    357\u001b[0m     \u001b[38;5;66;03m# If the header is set we mark the server as verified.\u001b[39;00m\n",
      "\u001b[1;31mNotFoundError\u001b[0m: NotFoundError(404, \"{'_index': 'my_index', '_type': '_doc', '_id': '0', 'found': False}\")"
     ]
    }
   ],
   "source": [
    "response = es.get(index=\"my_index\", id=[0])\n",
    "print(response[\"result\"])"
   ]
  },
  {
   "cell_type": "code",
   "execution_count": 87,
   "id": "e13d0c2d",
   "metadata": {},
   "outputs": [
    {
     "name": "stdout",
     "output_type": "stream",
     "text": [
      "{'total': 2, 'successful': 1, 'failed': 0}\n"
     ]
    }
   ],
   "source": [
    "print(response['_shards'])"
   ]
  },
  {
   "cell_type": "code",
   "execution_count": 88,
   "id": "d8f076bd",
   "metadata": {},
   "outputs": [
    {
     "name": "stdout",
     "output_type": "stream",
     "text": [
      "S68O5pkBUuND_Nx8pHxG\n"
     ]
    }
   ],
   "source": [
    "print(response[\"_id\"])"
   ]
  },
  {
   "cell_type": "code",
   "execution_count": 89,
   "id": "26d378cb",
   "metadata": {},
   "outputs": [
    {
     "name": "stdout",
     "output_type": "stream",
     "text": [
      "my_index\n"
     ]
    }
   ],
   "source": [
    "print(response[\"_index\"])"
   ]
  },
  {
   "cell_type": "markdown",
   "id": "f31f9920",
   "metadata": {},
   "source": [
    "Insert multiple documents. Just do the same step but i a for loop"
   ]
  },
  {
   "cell_type": "code",
   "execution_count": 90,
   "id": "394732a3",
   "metadata": {},
   "outputs": [
    {
     "data": {
      "text/plain": [
       "[{'title': 'Sample title 1',\n",
       "  'content': 'This is sample content first entry',\n",
       "  'created_on': '2023-10-01'},\n",
       " {'title': 'Sample title 2',\n",
       "  'content': 'This is sample content second enty',\n",
       "  'created_on': '2023-10-02'},\n",
       " {'title': 'Sample title 3',\n",
       "  'content': 'This is sample content third entry',\n",
       "  'created_on': '2023-10-03'}]"
      ]
     },
     "execution_count": 90,
     "metadata": {},
     "output_type": "execute_result"
    }
   ],
   "source": [
    "# Create 3 dummy json file\n",
    "import json\n",
    "\n",
    "dummy_data = json.load(open(\"../data/dummy_data.json\"))\n",
    "dummy_data"
   ]
  },
  {
   "cell_type": "code",
   "execution_count": 91,
   "id": "d6728658",
   "metadata": {},
   "outputs": [
    {
     "name": "stdout",
     "output_type": "stream",
     "text": [
      "Document ID: TK8O5pkBUuND_Nx8pHzk is 'created' and is split into 2 shards.\n",
      "Document ID: Ta8O5pkBUuND_Nx8pXwh is 'created' and is split into 2 shards.\n",
      "Document ID: Tq8O5pkBUuND_Nx8pXw6 is 'created' and is split into 2 shards.\n"
     ]
    }
   ],
   "source": [
    "# Method to insert data in the document\n",
    "def insert_document(document): \n",
    "    response = es.index(index=\"my_index\", body=document)\n",
    "    return response\n",
    "\n",
    "# Method for print the response\n",
    "def print_info(response): \n",
    "    print(f\"\"\"Document ID: {response['_id']} is '{\n",
    "        response[\"result\"]}' and is split into {response['_shards']['total']} shards.\"\"\")\n",
    "    \n",
    "    \n",
    "# For loop docuent\n",
    "for document in dummy_data:\n",
    "    response = insert_document(document)\n",
    "    print_info(response)"
   ]
  },
  {
   "cell_type": "markdown",
   "id": "2b1b0c25",
   "metadata": {},
   "source": [
    "How to print the mapping in elasticsearch "
   ]
  },
  {
   "cell_type": "code",
   "execution_count": 92,
   "id": "28943771",
   "metadata": {},
   "outputs": [
    {
     "name": "stdout",
     "output_type": "stream",
     "text": [
      "{'content': {'fields': {'keyword': {'ignore_above': 256, 'type': 'keyword'}},\n",
      "             'type': 'text'},\n",
      " 'created_on': {'type': 'date'},\n",
      " 'text': {'fields': {'keyword': {'ignore_above': 256, 'type': 'keyword'}},\n",
      "          'type': 'text'},\n",
      " 'title': {'fields': {'keyword': {'ignore_above': 256, 'type': 'keyword'}},\n",
      "           'type': 'text'}}\n"
     ]
    }
   ],
   "source": [
    "from pprint import pprint\n",
    "\n",
    "index_mapping = es.indices.get_mapping(index='my_index')\n",
    "pprint(index_mapping[\"my_index\"][\"mappings\"][\"properties\"])"
   ]
  },
  {
   "cell_type": "markdown",
   "id": "42200356",
   "metadata": {},
   "source": [
    "Using a manual mapping"
   ]
  },
  {
   "cell_type": "code",
   "execution_count": 93,
   "id": "f61a3020",
   "metadata": {},
   "outputs": [
    {
     "name": "stdout",
     "output_type": "stream",
     "text": [
      "{'created_on': {'type': 'date'},\n",
      " 'text': {'fields': {'keyword': {'ignore_above': 256, 'type': 'keyword'}},\n",
      "          'type': 'text'},\n",
      " 'title': {'fields': {'keyword': {'ignore_above': 256, 'type': 'keyword'}},\n",
      "           'type': 'text'}}\n"
     ]
    }
   ],
   "source": [
    "es.indices.delete(index='my_index', ignore_unavailable=True)\n",
    "es.indices.create(index='my_index')\n",
    "\n",
    "# How to manualy mapping \n",
    "mapping = {\n",
    "    'properties': {\n",
    "        'created_on': {'type': 'date'},\n",
    "        'text': {\n",
    "            'type': 'text', \n",
    "            'fields': {\n",
    "                'keyword': {\n",
    "                    'type': 'keyword', \n",
    "                    'ignore_above': 256\n",
    "                }\n",
    "            }\n",
    "        }, \n",
    "        'title': {\n",
    "            'type': 'text', \n",
    "            'fields': {\n",
    "                'keyword': {\n",
    "                    'type': 'keyword',\n",
    "                     'ignore_above': 256\n",
    "                }\n",
    "            }\n",
    "            \n",
    "        }\n",
    "    }\n",
    "}\n",
    "\n",
    "es.indices.put_mapping(index='my_index', body=mapping)\n",
    "\n",
    "index_mapping = es.indices.get_mapping(index='my_index')\n",
    "pprint(index_mapping[\"my_index\"][\"mappings\"][\"properties\"])"
   ]
  },
  {
   "cell_type": "code",
   "execution_count": 94,
   "id": "580291f1",
   "metadata": {},
   "outputs": [
    {
     "name": "stdout",
     "output_type": "stream",
     "text": [
      "{'created_on': {'type': 'date'},\n",
      " 'text': {'fields': {'keyword': {'ignore_above': 256, 'type': 'keyword'}},\n",
      "          'type': 'text'},\n",
      " 'title': {'fields': {'keyword': {'ignore_above': 256, 'type': 'keyword'}},\n",
      "           'type': 'text'}}\n"
     ]
    }
   ],
   "source": [
    "# Tutorial How to make a mapping elasticsearch \n",
    "mapping = {\n",
    "    'properties': {\n",
    "        'created_on': {'type': 'date'}, \n",
    "        'text': {\n",
    "            'type': 'text', \n",
    "            'fields': {\n",
    "                'keyword': {\n",
    "                    'type': 'keyword', \n",
    "                    'ignore_above': 256\n",
    "                }\n",
    "            }\n",
    "        }, \n",
    "        'title': {\n",
    "            'type': 'text', \n",
    "            'fields': {\n",
    "                'keyword': {\n",
    "                    'type': 'keyword', \n",
    "                    'ignore_above': 256\n",
    "                }\n",
    "            }\n",
    "        }\n",
    "    }\n",
    "}\n",
    "\n",
    "# Delete the index\n",
    "es.indices.delete(index='my_index', ignore_unavailable=True)\n",
    "\n",
    "# Create the index\n",
    "es.indices.create(\n",
    "    index='my_index', \n",
    "    mappings=mapping)\n",
    "\n",
    "index_mapping = es.indices.get_mapping(index='my_index')\n",
    "pprint(index_mapping[\"my_index\"][\"mappings\"][\"properties\"])"
   ]
  },
  {
   "cell_type": "markdown",
   "id": "fb20d7a9",
   "metadata": {},
   "source": [
    "5. common types -> how to use data types"
   ]
  },
  {
   "cell_type": "code",
   "execution_count": 95,
   "id": "c4c59ee8",
   "metadata": {},
   "outputs": [
    {
     "data": {
      "text/plain": [
       "ObjectApiResponse({'acknowledged': True, 'shards_acknowledged': True, 'index': 'binary_index'})"
      ]
     },
     "execution_count": 95,
     "metadata": {},
     "output_type": "execute_result"
    }
   ],
   "source": [
    "# 1.1 binary \n",
    "es.indices.delete(index='binary_index', ignore_unavailable=True)\n",
    "\n",
    "# Create index\n",
    "es.indices.create(\n",
    "    index='binary_index', \n",
    "    mappings={\n",
    "        \"properties\": {\n",
    "            \"image_data\": {\n",
    "                \"type\": 'binary'\n",
    "            }\n",
    "        }\n",
    "    }\n",
    ")"
   ]
  },
  {
   "cell_type": "code",
   "execution_count": 96,
   "id": "4036940c",
   "metadata": {},
   "outputs": [
    {
     "data": {
      "text/plain": [
       "'UklGRqT6AQBXRUJQVlA4IJj6AQBwyAedASpMBCADPm0ylEemJCKhp5da4MANiWNt5+leP7rE1/k6pv6u5uEAwh/1Oguz256cqyaf'"
      ]
     },
     "execution_count": 96,
     "metadata": {},
     "output_type": "execute_result"
    }
   ],
   "source": [
    "import base64\n",
    "\n",
    "image_path = '../images/about-lombok.jpg'\n",
    "with open(image_path, \"rb\") as image_file:\n",
    "    image_bytes = image_file.read()\n",
    "    image_base64 = base64.b64encode(image_bytes).decode(\"utf-8\")\n",
    "    \n",
    "    \n",
    "image_base64[:100]"
   ]
  },
  {
   "cell_type": "code",
   "execution_count": 97,
   "id": "c8fb5457",
   "metadata": {},
   "outputs": [
    {
     "data": {
      "text/plain": [
       "172944"
      ]
     },
     "execution_count": 97,
     "metadata": {},
     "output_type": "execute_result"
    }
   ],
   "source": [
    "len(image_base64)"
   ]
  },
  {
   "cell_type": "code",
   "execution_count": 98,
   "id": "7ca8796a",
   "metadata": {},
   "outputs": [
    {
     "data": {
      "text/plain": [
       "ObjectApiResponse({'_index': 'binary_index', '_type': '_doc', '_id': 'T68O5pkBUuND_Nx8qHzi', '_version': 1, 'result': 'created', '_shards': {'total': 2, 'successful': 1, 'failed': 0}, '_seq_no': 0, '_primary_term': 1})"
      ]
     },
     "execution_count": 98,
     "metadata": {},
     "output_type": "execute_result"
    }
   ],
   "source": [
    "document = {\n",
    "    \"image_data\" : image_base64\n",
    "}\n",
    "\n",
    "response = es.index(index='binary_index', body=document)\n",
    "response"
   ]
  },
  {
   "cell_type": "markdown",
   "id": "69b0c538",
   "metadata": {},
   "source": [
    "1.2 Others"
   ]
  },
  {
   "cell_type": "code",
   "execution_count": 99,
   "id": "4a2d9db6",
   "metadata": {},
   "outputs": [
    {
     "data": {
      "text/plain": [
       "ObjectApiResponse({'acknowledged': True, 'shards_acknowledged': True, 'index': 'other_common_data_types_index'})"
      ]
     },
     "execution_count": 99,
     "metadata": {},
     "output_type": "execute_result"
    }
   ],
   "source": [
    "es.indices.delete(\n",
    "    index='other_common_data_types_index', \n",
    "    ignore_unavailable=True\n",
    ")\n",
    "\n",
    "# Make a mapping index\n",
    "es.indices.create(\n",
    "    index='other_common_data_types_index', \n",
    "    mappings={\n",
    "        \"properties\": {\n",
    "            \"book_preference\": {\n",
    "                \"type\": \"keyword\"\n",
    "            }, \n",
    "            \"price\": {\n",
    "                \"type\": \"float\"\n",
    "            }, \n",
    "            \"publish_date\": {\n",
    "                \"type\": \"date\"\n",
    "            }, \n",
    "            \"is_available\": {\n",
    "                \"type\": \"date\"\n",
    "            }\n",
    "        }\n",
    "    }\n",
    ")\n",
    "\n"
   ]
  },
  {
   "cell_type": "code",
   "execution_count": 100,
   "id": "d62f3344",
   "metadata": {},
   "outputs": [
    {
     "data": {
      "text/plain": [
       "ObjectApiResponse({'_index': 'other_common_datat_types_index', '_type': '_doc', '_id': 'UK8O5pkBUuND_Nx8qXzw', '_version': 1, 'result': 'created', '_shards': {'total': 2, 'successful': 1, 'failed': 0}, '_seq_no': 2, '_primary_term': 1})"
      ]
     },
     "execution_count": 100,
     "metadata": {},
     "output_type": "execute_result"
    }
   ],
   "source": [
    "# Insert data to document\n",
    "document = {\n",
    "    \"book_preference\": \"9723-2834824\", \n",
    "    \"price\": 33.23, \n",
    "    \"publish_date\": \"2021-06-30\", \n",
    "    \"is_available\": True\n",
    "}\n",
    "\n",
    "response = es.index(index='other_common_datat_types_index', body=document)\n",
    "response\n"
   ]
  },
  {
   "cell_type": "markdown",
   "id": "1f97a7c2",
   "metadata": {},
   "source": [
    "2.1 Object Types Of Index"
   ]
  },
  {
   "cell_type": "markdown",
   "id": "ad31a3ec",
   "metadata": {},
   "source": [
    "2.1 Object Index"
   ]
  },
  {
   "cell_type": "code",
   "execution_count": 101,
   "id": "9da635a6",
   "metadata": {},
   "outputs": [
    {
     "data": {
      "text/plain": [
       "ObjectApiResponse({'acknowledged': True, 'shards_acknowledged': True, 'index': 'object_index'})"
      ]
     },
     "execution_count": 101,
     "metadata": {},
     "output_type": "execute_result"
    }
   ],
   "source": [
    "# 2.1 Object \n",
    "es.indices.delete(index='object_index', ignore_unavailable=True)\n",
    "\n",
    "# Create a mapping nested object \n",
    "es.indices.create(\n",
    "    index='object_index', \n",
    "    mappings={\n",
    "        \"properties\": {\n",
    "            \"author\": {\n",
    "                \"properties\": {\n",
    "                    \"first_name\": {\n",
    "                        \"type\": \"text\"\n",
    "                    }, \n",
    "                    \"last_name\": {\n",
    "                        \"type\": \"text\"\n",
    "                    }\n",
    "                }\n",
    "            }\n",
    "        }\n",
    "    }\n",
    ")"
   ]
  },
  {
   "cell_type": "code",
   "execution_count": 102,
   "id": "82aabf7a",
   "metadata": {},
   "outputs": [
    {
     "data": {
      "text/plain": [
       "ObjectApiResponse({'_index': 'object_index', '_type': '_doc', '_id': 'Ua8O5pkBUuND_Nx8qnz7', '_version': 1, 'result': 'created', '_shards': {'total': 2, 'successful': 1, 'failed': 0}, '_seq_no': 0, '_primary_term': 1})"
      ]
     },
     "execution_count": 102,
     "metadata": {},
     "output_type": "execute_result"
    }
   ],
   "source": [
    "# make an dummy data \n",
    "document = {\n",
    "    \"author\": {\n",
    "        \"first_name\": \"Imam\", \n",
    "        \"last_name\": \"Sadikid\"\n",
    "    }\n",
    "}\n",
    "\n",
    "response = es.index(index='object_index', body=document)\n",
    "response"
   ]
  },
  {
   "cell_type": "markdown",
   "id": "dbdd366b",
   "metadata": {},
   "source": [
    "2.2 Flattened Object Index"
   ]
  },
  {
   "cell_type": "code",
   "execution_count": 103,
   "id": "b10715b0",
   "metadata": {},
   "outputs": [
    {
     "data": {
      "text/plain": [
       "ObjectApiResponse({'acknowledged': True, 'shards_acknowledged': True, 'index': 'flattened_object_index'})"
      ]
     },
     "execution_count": 103,
     "metadata": {},
     "output_type": "execute_result"
    }
   ],
   "source": [
    "# 2.2 How To use a flattened object \n",
    "es.indices.delete(\n",
    "    index=\"flattened_object_index\", \n",
    "    ignore_unavailable=True\n",
    ")\n",
    "\n",
    "# Make index mapping with flattened \n",
    "es.indices.create(\n",
    "    index=\"flattened_object_index\", \n",
    "    mappings={\n",
    "        \"properties\": {\n",
    "            \"author\": {\n",
    "                \"type\": \"flattened\"\n",
    "            }\n",
    "        }\n",
    "    }\n",
    ")"
   ]
  },
  {
   "cell_type": "code",
   "execution_count": 104,
   "id": "200092d8",
   "metadata": {},
   "outputs": [
    {
     "data": {
      "text/plain": [
       "ObjectApiResponse({'_index': 'flattened_object_index', '_type': '_doc', '_id': 'Uq8O5pkBUuND_Nx8rHwR', '_version': 1, 'result': 'created', '_shards': {'total': 2, 'successful': 1, 'failed': 0}, '_seq_no': 0, '_primary_term': 1})"
      ]
     },
     "execution_count": 104,
     "metadata": {},
     "output_type": "execute_result"
    }
   ],
   "source": [
    "# Make an insert document data\n",
    "document = {\n",
    "    \"author\": {\n",
    "        \"first_name\": \"Imam\", \n",
    "        \"last_name\": \"sadikik\"\n",
    "    }\n",
    "}\n",
    "\n",
    "response = es.index(\n",
    "    index=\"flattened_object_index\", \n",
    "    body=document\n",
    "    )\n",
    "\n",
    "response"
   ]
  },
  {
   "cell_type": "markdown",
   "id": "1a60fa0a",
   "metadata": {},
   "source": [
    "2.3 Using a nested document"
   ]
  },
  {
   "cell_type": "code",
   "execution_count": 105,
   "id": "bcf1bb19",
   "metadata": {},
   "outputs": [
    {
     "data": {
      "text/plain": [
       "ObjectApiResponse({'acknowledged': True, 'shards_acknowledged': True, 'index': 'nested_object_index'})"
      ]
     },
     "execution_count": 105,
     "metadata": {},
     "output_type": "execute_result"
    }
   ],
   "source": [
    "es.indices.delete(\n",
    "    index='nested_object_index', \n",
    "    ignore_unavailable=True\n",
    ")\n",
    "\n",
    "es.indices.create(\n",
    "    index=\"nested_object_index\", \n",
    "    mappings={\n",
    "        \"properties\": {\n",
    "            \"users\": {\n",
    "                \"type\": \"nested\"\n",
    "            }\n",
    "        }\n",
    "    }\n",
    ")"
   ]
  },
  {
   "cell_type": "code",
   "execution_count": 106,
   "id": "8df10f18",
   "metadata": {},
   "outputs": [
    {
     "data": {
      "text/plain": [
       "ObjectApiResponse({'_index': 'nested_object_index', '_type': '_doc', '_id': 'U68O5pkBUuND_Nx8rXwL', '_version': 1, 'result': 'created', '_shards': {'total': 2, 'successful': 1, 'failed': 0}, '_seq_no': 0, '_primary_term': 1})"
      ]
     },
     "execution_count": 106,
     "metadata": {},
     "output_type": "execute_result"
    }
   ],
   "source": [
    "# Insert data \n",
    "documents = [\n",
    "    {\n",
    "        \"first\": \"John\", \n",
    "        \"last\": \"Wick\"\n",
    "    }, \n",
    "    {\n",
    "        \"first\": \"Imam\", \n",
    "        \"last\": \"Sadikik\"\n",
    "    }\n",
    "]\n",
    "\n",
    "response = es.index(\n",
    "    index=\"nested_object_index\", \n",
    "    body={\"user\": document}\n",
    ")\n",
    "\n",
    "response"
   ]
  },
  {
   "cell_type": "markdown",
   "id": "53f53c58",
   "metadata": {},
   "source": [
    "3. Text Search Types"
   ]
  },
  {
   "cell_type": "code",
   "execution_count": 107,
   "id": "166e6d29",
   "metadata": {},
   "outputs": [
    {
     "data": {
      "text/plain": [
       "ObjectApiResponse({'acknowledged': True, 'shards_acknowledged': True, 'index': 'text_index'})"
      ]
     },
     "execution_count": 107,
     "metadata": {},
     "output_type": "execute_result"
    }
   ],
   "source": [
    "# Delete index first \n",
    "es.indices.delete(index=\"text_index\", ignore_unavailable=True)\n",
    "\n",
    "# Make an index\n",
    "es.indices.create(\n",
    "    index=\"text_index\", \n",
    "    mappings={\n",
    "        \"properties\": {\n",
    "            \"email_body\": {\n",
    "                \"type\": \"text\"\n",
    "            }\n",
    "        }\n",
    "    }\n",
    ")"
   ]
  },
  {
   "cell_type": "code",
   "execution_count": 110,
   "id": "32a24f7d",
   "metadata": {},
   "outputs": [
    {
     "data": {
      "text/plain": [
       "ObjectApiResponse({'_index': 'email_body', '_type': '_doc', '_id': 'WK8X5pkBUuND_Nx8t3yg', '_version': 1, 'result': 'created', '_shards': {'total': 2, 'successful': 1, 'failed': 0}, '_seq_no': 3, '_primary_term': 1})"
      ]
     },
     "execution_count": 110,
     "metadata": {},
     "output_type": "execute_result"
    }
   ],
   "source": [
    "# Make a document inserted \n",
    "document = {\n",
    "    \"email_body\": \"Hello, this is a test email.\"\n",
    "}\n",
    "\n",
    "response = es.index(index=\"email_body\", body=document)\n",
    "response"
   ]
  },
  {
   "cell_type": "markdown",
   "id": "dbd68429",
   "metadata": {},
   "source": [
    "------ 3.2 Suggest : \"completion\" type"
   ]
  },
  {
   "cell_type": "code",
   "execution_count": 111,
   "id": "1a298ee3",
   "metadata": {},
   "outputs": [
    {
     "data": {
      "text/plain": [
       "ObjectApiResponse({'acknowledged': True, 'shards_acknowledged': True, 'index': 'text_completion_index'})"
      ]
     },
     "execution_count": 111,
     "metadata": {},
     "output_type": "execute_result"
    }
   ],
   "source": [
    "# 3.2 suggest type of completion\n",
    "es.indices.delete(index=\"text_completion_index\", ignore_unavailable=True)\n",
    "es.indices.create(\n",
    "    index=\"text_completion_index\", \n",
    "    mappings={\n",
    "        \"properties\": {\n",
    "            \"suggest\": {\n",
    "                \"type\": \"completion\"\n",
    "            }\n",
    "        }\n",
    "    }\n",
    ")"
   ]
  },
  {
   "cell_type": "code",
   "execution_count": 112,
   "id": "8ad20ed1",
   "metadata": {},
   "outputs": [
    {
     "data": {
      "text/plain": [
       "ObjectApiResponse({'_index': 'text-completion_index', '_type': '_doc', '_id': 'W68d5pkBUuND_Nx8V3zy', '_version': 1, 'result': 'created', '_shards': {'total': 2, 'successful': 1, 'failed': 0}, '_seq_no': 0, '_primary_term': 1})"
      ]
     },
     "execution_count": 112,
     "metadata": {},
     "output_type": "execute_result"
    }
   ],
   "source": [
    "# make an input data \n",
    "document_1 = {\n",
    "    \"suggest\": {\n",
    "        \"input\": [\"Merkurius\", \"Venus\", \"Mars\"]\n",
    "    }\n",
    "}\n",
    "\n",
    "document_2 = {\n",
    "    \"sugges\": {\n",
    "        \"input\": [\"Galaxy\", \"Andromeda\"]\n",
    "    }\n",
    "}\n",
    "\n",
    "es.index(index=\"text_completion_index\", body=document_1)\n",
    "es.index(index=\"text-completion_index\", body=document_2)"
   ]
  },
  {
   "cell_type": "markdown",
   "id": "bb7656a8",
   "metadata": {},
   "source": [
    "4. Spatial Data Types"
   ]
  },
  {
   "cell_type": "markdown",
   "id": "63d891ea",
   "metadata": {},
   "source": [
    "4.1 geo_point type"
   ]
  },
  {
   "cell_type": "code",
   "execution_count": 138,
   "id": "b922d533",
   "metadata": {},
   "outputs": [
    {
     "data": {
      "text/plain": [
       "ObjectApiResponse({'acknowledged': True, 'shards_acknowledged': True, 'index': 'geo_point_index'})"
      ]
     },
     "execution_count": 138,
     "metadata": {},
     "output_type": "execute_result"
    }
   ],
   "source": [
    "# Make a geopoint index with type ge\n",
    "es.indices.delete(index=\"geo_point_index\", ignore_unavailable=True)\n",
    "es.indices.create(\n",
    "    index=\"geo_point_index\",\n",
    "    mappings={\n",
    "        \"properties\": {\n",
    "            \"location\": {\n",
    "                \"type\": \"geo_point\"\n",
    "            }\n",
    "        }\n",
    "    }\n",
    ")"
   ]
  },
  {
   "cell_type": "code",
   "execution_count": 141,
   "id": "e594b7d6",
   "metadata": {},
   "outputs": [
    {
     "data": {
      "text/plain": [
       "ObjectApiResponse({'_index': 'geo_point_index', '_type': '_doc', '_id': 'eq-G5pkBUuND_Nx8tnyC', '_version': 1, 'result': 'created', '_shards': {'total': 2, 'successful': 1, 'failed': 0}, '_seq_no': 1, '_primary_term': 1})"
      ]
     },
     "execution_count": 141,
     "metadata": {},
     "output_type": "execute_result"
    }
   ],
   "source": [
    "# Make the inserted document \n",
    "document = {\n",
    "    \"text\": \"Geopoint as an object using GeoJSON Format\", \n",
    "    \"location\": [\n",
    "        -71.5, 23.4\n",
    "    ]    \n",
    "}\n",
    "\n",
    "response = es.index(index=\"geo_point_index\", body=document)\n",
    "response"
   ]
  },
  {
   "cell_type": "markdown",
   "id": "26bd7046",
   "metadata": {},
   "source": [
    "4.2 geo_shape type "
   ]
  },
  {
   "cell_type": "code",
   "execution_count": 162,
   "id": "20a6225c",
   "metadata": {},
   "outputs": [
    {
     "data": {
      "text/plain": [
       "ObjectApiResponse({'acknowledged': True, 'shards_acknowledged': True, 'index': 'geo_shape_index'})"
      ]
     },
     "execution_count": 162,
     "metadata": {},
     "output_type": "execute_result"
    }
   ],
   "source": [
    "es.indices.delete(index=\"geo_shape_index\", ignore_unavailable=True)\n",
    "es.indices.create(\n",
    "    index=\"geo_shape_index\", \n",
    "    mappings={\n",
    "        \"properties\": {\n",
    "            \"location\": {\n",
    "                \"type\": \"geo_shape\"\n",
    "            }\n",
    "        }\n",
    "    }\n",
    ")"
   ]
  },
  {
   "cell_type": "code",
   "execution_count": 163,
   "id": "a0a834ab",
   "metadata": {},
   "outputs": [
    {
     "ename": "BadRequestError",
     "evalue": "BadRequestError(400, 'mapper_parsing_exception', 'failed to parse field [location] of type [geo_shape]', at least 4 polygon points required)",
     "output_type": "error",
     "traceback": [
      "\u001b[1;31m---------------------------------------------------------------------------\u001b[0m",
      "\u001b[1;31mBadRequestError\u001b[0m                           Traceback (most recent call last)",
      "Cell \u001b[1;32mIn[163], line 42\u001b[0m\n\u001b[0;32m     18\u001b[0m document_2 \u001b[38;5;241m=\u001b[39m {\n\u001b[0;32m     19\u001b[0m     \u001b[38;5;124m\"\u001b[39m\u001b[38;5;124mlocation\u001b[39m\u001b[38;5;124m\"\u001b[39m: {\n\u001b[0;32m     20\u001b[0m         \u001b[38;5;124m\"\u001b[39m\u001b[38;5;124mtype\u001b[39m\u001b[38;5;124m\"\u001b[39m: \u001b[38;5;124m\"\u001b[39m\u001b[38;5;124mPolygon\u001b[39m\u001b[38;5;124m\"\u001b[39m, \n\u001b[1;32m   (...)\u001b[0m\n\u001b[0;32m     37\u001b[0m     }\n\u001b[0;32m     38\u001b[0m }\n\u001b[0;32m     41\u001b[0m es\u001b[38;5;241m.\u001b[39mindex(index\u001b[38;5;241m=\u001b[39m\u001b[38;5;124m\"\u001b[39m\u001b[38;5;124mgeo_shape_index\u001b[39m\u001b[38;5;124m\"\u001b[39m, body\u001b[38;5;241m=\u001b[39mdocument_1)\n\u001b[1;32m---> 42\u001b[0m \u001b[43mes\u001b[49m\u001b[38;5;241;43m.\u001b[39;49m\u001b[43mindex\u001b[49m\u001b[43m(\u001b[49m\u001b[43mindex\u001b[49m\u001b[38;5;241;43m=\u001b[39;49m\u001b[38;5;124;43m\"\u001b[39;49m\u001b[38;5;124;43mgeo_shape_index\u001b[39;49m\u001b[38;5;124;43m\"\u001b[39;49m\u001b[43m,\u001b[49m\u001b[43m \u001b[49m\u001b[43mbody\u001b[49m\u001b[38;5;241;43m=\u001b[39;49m\u001b[43mdocument_2\u001b[49m\u001b[43m)\u001b[49m\n",
      "File \u001b[1;32md:\\project_elasticsearch\\venv\\lib\\site-packages\\elasticsearch\\_sync\\client\\utils.py:415\u001b[0m, in \u001b[0;36m_rewrite_parameters.<locals>.wrapper.<locals>.wrapped\u001b[1;34m(*args, **kwargs)\u001b[0m\n\u001b[0;32m    412\u001b[0m         \u001b[38;5;28;01mexcept\u001b[39;00m \u001b[38;5;167;01mKeyError\u001b[39;00m:\n\u001b[0;32m    413\u001b[0m             \u001b[38;5;28;01mpass\u001b[39;00m\n\u001b[1;32m--> 415\u001b[0m \u001b[38;5;28;01mreturn\u001b[39;00m \u001b[43mapi\u001b[49m\u001b[43m(\u001b[49m\u001b[38;5;241;43m*\u001b[39;49m\u001b[43margs\u001b[49m\u001b[43m,\u001b[49m\u001b[43m \u001b[49m\u001b[38;5;241;43m*\u001b[39;49m\u001b[38;5;241;43m*\u001b[39;49m\u001b[43mkwargs\u001b[49m\u001b[43m)\u001b[49m\n",
      "File \u001b[1;32md:\\project_elasticsearch\\venv\\lib\\site-packages\\elasticsearch\\_sync\\client\\__init__.py:2940\u001b[0m, in \u001b[0;36mElasticsearch.index\u001b[1;34m(self, index, document, body, id, error_trace, filter_path, human, if_primary_term, if_seq_no, include_source_on_error, op_type, pipeline, pretty, refresh, require_alias, require_data_stream, routing, timeout, version, version_type, wait_for_active_shards)\u001b[0m\n\u001b[0;32m   2938\u001b[0m __body \u001b[38;5;241m=\u001b[39m document \u001b[38;5;28;01mif\u001b[39;00m document \u001b[38;5;129;01mis\u001b[39;00m \u001b[38;5;129;01mnot\u001b[39;00m \u001b[38;5;28;01mNone\u001b[39;00m \u001b[38;5;28;01melse\u001b[39;00m body\n\u001b[0;32m   2939\u001b[0m __headers \u001b[38;5;241m=\u001b[39m {\u001b[38;5;124m\"\u001b[39m\u001b[38;5;124maccept\u001b[39m\u001b[38;5;124m\"\u001b[39m: \u001b[38;5;124m\"\u001b[39m\u001b[38;5;124mapplication/json\u001b[39m\u001b[38;5;124m\"\u001b[39m, \u001b[38;5;124m\"\u001b[39m\u001b[38;5;124mcontent-type\u001b[39m\u001b[38;5;124m\"\u001b[39m: \u001b[38;5;124m\"\u001b[39m\u001b[38;5;124mapplication/json\u001b[39m\u001b[38;5;124m\"\u001b[39m}\n\u001b[1;32m-> 2940\u001b[0m \u001b[38;5;28;01mreturn\u001b[39;00m \u001b[38;5;28;43mself\u001b[39;49m\u001b[38;5;241;43m.\u001b[39;49m\u001b[43mperform_request\u001b[49m\u001b[43m(\u001b[49m\u001b[43m  \u001b[49m\u001b[38;5;66;43;03m# type: ignore[return-value]\u001b[39;49;00m\n\u001b[0;32m   2941\u001b[0m \u001b[43m    \u001b[49m\u001b[43m__method\u001b[49m\u001b[43m,\u001b[49m\n\u001b[0;32m   2942\u001b[0m \u001b[43m    \u001b[49m\u001b[43m__path\u001b[49m\u001b[43m,\u001b[49m\n\u001b[0;32m   2943\u001b[0m \u001b[43m    \u001b[49m\u001b[43mparams\u001b[49m\u001b[38;5;241;43m=\u001b[39;49m\u001b[43m__query\u001b[49m\u001b[43m,\u001b[49m\n\u001b[0;32m   2944\u001b[0m \u001b[43m    \u001b[49m\u001b[43mheaders\u001b[49m\u001b[38;5;241;43m=\u001b[39;49m\u001b[43m__headers\u001b[49m\u001b[43m,\u001b[49m\n\u001b[0;32m   2945\u001b[0m \u001b[43m    \u001b[49m\u001b[43mbody\u001b[49m\u001b[38;5;241;43m=\u001b[39;49m\u001b[43m__body\u001b[49m\u001b[43m,\u001b[49m\n\u001b[0;32m   2946\u001b[0m \u001b[43m    \u001b[49m\u001b[43mendpoint_id\u001b[49m\u001b[38;5;241;43m=\u001b[39;49m\u001b[38;5;124;43m\"\u001b[39;49m\u001b[38;5;124;43mindex\u001b[39;49m\u001b[38;5;124;43m\"\u001b[39;49m\u001b[43m,\u001b[49m\n\u001b[0;32m   2947\u001b[0m \u001b[43m    \u001b[49m\u001b[43mpath_parts\u001b[49m\u001b[38;5;241;43m=\u001b[39;49m\u001b[43m__path_parts\u001b[49m\u001b[43m,\u001b[49m\n\u001b[0;32m   2948\u001b[0m \u001b[43m\u001b[49m\u001b[43m)\u001b[49m\n",
      "File \u001b[1;32md:\\project_elasticsearch\\venv\\lib\\site-packages\\elasticsearch\\_sync\\client\\_base.py:271\u001b[0m, in \u001b[0;36mBaseClient.perform_request\u001b[1;34m(self, method, path, params, headers, body, endpoint_id, path_parts)\u001b[0m\n\u001b[0;32m    255\u001b[0m \u001b[38;5;28;01mdef\u001b[39;00m\u001b[38;5;250m \u001b[39m\u001b[38;5;21mperform_request\u001b[39m(\n\u001b[0;32m    256\u001b[0m     \u001b[38;5;28mself\u001b[39m,\n\u001b[0;32m    257\u001b[0m     method: \u001b[38;5;28mstr\u001b[39m,\n\u001b[1;32m   (...)\u001b[0m\n\u001b[0;32m    264\u001b[0m     path_parts: Optional[Mapping[\u001b[38;5;28mstr\u001b[39m, Any]] \u001b[38;5;241m=\u001b[39m \u001b[38;5;28;01mNone\u001b[39;00m,\n\u001b[0;32m    265\u001b[0m ) \u001b[38;5;241m-\u001b[39m\u001b[38;5;241m>\u001b[39m ApiResponse[Any]:\n\u001b[0;32m    266\u001b[0m     \u001b[38;5;28;01mwith\u001b[39;00m \u001b[38;5;28mself\u001b[39m\u001b[38;5;241m.\u001b[39m_otel\u001b[38;5;241m.\u001b[39mspan(\n\u001b[0;32m    267\u001b[0m         method,\n\u001b[0;32m    268\u001b[0m         endpoint_id\u001b[38;5;241m=\u001b[39mendpoint_id,\n\u001b[0;32m    269\u001b[0m         path_parts\u001b[38;5;241m=\u001b[39mpath_parts \u001b[38;5;129;01mor\u001b[39;00m {},\n\u001b[0;32m    270\u001b[0m     ) \u001b[38;5;28;01mas\u001b[39;00m otel_span:\n\u001b[1;32m--> 271\u001b[0m         response \u001b[38;5;241m=\u001b[39m \u001b[38;5;28;43mself\u001b[39;49m\u001b[38;5;241;43m.\u001b[39;49m\u001b[43m_perform_request\u001b[49m\u001b[43m(\u001b[49m\n\u001b[0;32m    272\u001b[0m \u001b[43m            \u001b[49m\u001b[43mmethod\u001b[49m\u001b[43m,\u001b[49m\n\u001b[0;32m    273\u001b[0m \u001b[43m            \u001b[49m\u001b[43mpath\u001b[49m\u001b[43m,\u001b[49m\n\u001b[0;32m    274\u001b[0m \u001b[43m            \u001b[49m\u001b[43mparams\u001b[49m\u001b[38;5;241;43m=\u001b[39;49m\u001b[43mparams\u001b[49m\u001b[43m,\u001b[49m\n\u001b[0;32m    275\u001b[0m \u001b[43m            \u001b[49m\u001b[43mheaders\u001b[49m\u001b[38;5;241;43m=\u001b[39;49m\u001b[43mheaders\u001b[49m\u001b[43m,\u001b[49m\n\u001b[0;32m    276\u001b[0m \u001b[43m            \u001b[49m\u001b[43mbody\u001b[49m\u001b[38;5;241;43m=\u001b[39;49m\u001b[43mbody\u001b[49m\u001b[43m,\u001b[49m\n\u001b[0;32m    277\u001b[0m \u001b[43m            \u001b[49m\u001b[43motel_span\u001b[49m\u001b[38;5;241;43m=\u001b[39;49m\u001b[43motel_span\u001b[49m\u001b[43m,\u001b[49m\n\u001b[0;32m    278\u001b[0m \u001b[43m        \u001b[49m\u001b[43m)\u001b[49m\n\u001b[0;32m    279\u001b[0m         otel_span\u001b[38;5;241m.\u001b[39mset_elastic_cloud_metadata(response\u001b[38;5;241m.\u001b[39mmeta\u001b[38;5;241m.\u001b[39mheaders)\n\u001b[0;32m    280\u001b[0m         \u001b[38;5;28;01mreturn\u001b[39;00m response\n",
      "File \u001b[1;32md:\\project_elasticsearch\\venv\\lib\\site-packages\\elasticsearch\\_sync\\client\\_base.py:351\u001b[0m, in \u001b[0;36mBaseClient._perform_request\u001b[1;34m(self, method, path, params, headers, body, otel_span)\u001b[0m\n\u001b[0;32m    348\u001b[0m         \u001b[38;5;28;01mexcept\u001b[39;00m (\u001b[38;5;167;01mValueError\u001b[39;00m, \u001b[38;5;167;01mKeyError\u001b[39;00m, \u001b[38;5;167;01mTypeError\u001b[39;00m):\n\u001b[0;32m    349\u001b[0m             \u001b[38;5;28;01mpass\u001b[39;00m\n\u001b[1;32m--> 351\u001b[0m     \u001b[38;5;28;01mraise\u001b[39;00m HTTP_EXCEPTIONS\u001b[38;5;241m.\u001b[39mget(meta\u001b[38;5;241m.\u001b[39mstatus, ApiError)(\n\u001b[0;32m    352\u001b[0m         message\u001b[38;5;241m=\u001b[39mmessage, meta\u001b[38;5;241m=\u001b[39mmeta, body\u001b[38;5;241m=\u001b[39mresp_body\n\u001b[0;32m    353\u001b[0m     )\n\u001b[0;32m    355\u001b[0m \u001b[38;5;66;03m# 'X-Elastic-Product: Elasticsearch' should be on every 2XX response.\u001b[39;00m\n\u001b[0;32m    356\u001b[0m \u001b[38;5;28;01mif\u001b[39;00m \u001b[38;5;129;01mnot\u001b[39;00m \u001b[38;5;28mself\u001b[39m\u001b[38;5;241m.\u001b[39m_verified_elasticsearch:\n\u001b[0;32m    357\u001b[0m     \u001b[38;5;66;03m# If the header is set we mark the server as verified.\u001b[39;00m\n",
      "\u001b[1;31mBadRequestError\u001b[0m: BadRequestError(400, 'mapper_parsing_exception', 'failed to parse field [location] of type [geo_shape]', at least 4 polygon points required)"
     ]
    }
   ],
   "source": [
    "# Make a insert data \n",
    "document_1 = {\n",
    "    \"location\": {\n",
    "        \"type\": \"LineString\", \n",
    "        \"coordinates\": [\n",
    "            [\n",
    "                -22.5, \n",
    "                32.5\n",
    "            ], \n",
    "            [\n",
    "                -32.75, \n",
    "                20.2\n",
    "            ]\n",
    "        ]\n",
    "    }\n",
    "}\n",
    "\n",
    "document_2 = {\n",
    "    \"location\": {\n",
    "        \"type\": \"Polygon\", \n",
    "        \"coordinates\": [\n",
    "            [\n",
    "                [100, 0], \n",
    "                [104, 0], \n",
    "                [104, 1], \n",
    "                [100, 1], \n",
    "                [100, 0]  # closed ring\n",
    "            ], \n",
    "            [\n",
    "                [102.3, 0.2], \n",
    "                [102.3, 3.1], \n",
    "                [102.3, 2.1], \n",
    "                [102.3, 1.2], \n",
    "                [102.3, 0.2]  # closed ring\n",
    "            ]\n",
    "        ]\n",
    "    }\n",
    "}\n",
    "\n",
    "\n",
    "es.index(index=\"geo_shape_index\", body=document_1)\n",
    "es.index(index=\"geo_shape_index\", body=document_2)"
   ]
  },
  {
   "cell_type": "markdown",
   "id": "72347525",
   "metadata": {},
   "source": [
    "4.3 Point"
   ]
  },
  {
   "cell_type": "code",
   "execution_count": 164,
   "id": "f9b22a8d",
   "metadata": {},
   "outputs": [
    {
     "data": {
      "text/plain": [
       "ObjectApiResponse({'acknowledged': True, 'shards_acknowledged': True, 'index': 'point_index'})"
      ]
     },
     "execution_count": 164,
     "metadata": {},
     "output_type": "execute_result"
    }
   ],
   "source": [
    "es.indices.delete(index='point_index', ignore_unavailable=True)\n",
    "es.indices.create(\n",
    "    index=\"point_index\", \n",
    "    mappings={\n",
    "        \"properties\": {\n",
    "            \"location\": {\n",
    "                \"type\": \"point\"\n",
    "            }\n",
    "        }\n",
    "    }\n",
    ")"
   ]
  },
  {
   "cell_type": "code",
   "execution_count": 166,
   "id": "aebc94df",
   "metadata": {},
   "outputs": [
    {
     "data": {
      "text/plain": [
       "ObjectApiResponse({'_index': 'point_index', '_type': '_doc', '_id': 'nK-m5pkBUuND_Nx85Hwj', '_version': 1, 'result': 'created', '_shards': {'total': 2, 'successful': 1, 'failed': 0}, '_seq_no': 0, '_primary_term': 1})"
      ]
     },
     "execution_count": 166,
     "metadata": {},
     "output_type": "execute_result"
    }
   ],
   "source": [
    "document = {\n",
    "    \"location\": [\n",
    "        -71.4, \n",
    "        21.4\n",
    "    ]\n",
    "}\n",
    "\n",
    "response = es.index(index=\"point_index\", body=document)\n",
    "response"
   ]
  },
  {
   "cell_type": "markdown",
   "id": "9811a6c9",
   "metadata": {},
   "source": [
    "6. Delete Document Index in Elasticseaserch"
   ]
  }
 ],
 "metadata": {
  "kernelspec": {
   "display_name": "venv (3.8.10)",
   "language": "python",
   "name": "python3"
  },
  "language_info": {
   "codemirror_mode": {
    "name": "ipython",
    "version": 3
   },
   "file_extension": ".py",
   "mimetype": "text/x-python",
   "name": "python",
   "nbconvert_exporter": "python",
   "pygments_lexer": "ipython3",
   "version": "3.8.10"
  }
 },
 "nbformat": 4,
 "nbformat_minor": 5
}
