{
 "cells": [
  {
   "cell_type": "markdown",
   "id": "ea01859e",
   "metadata": {},
   "source": [
    "Connect to elasticsearch"
   ]
  },
  {
   "cell_type": "code",
   "execution_count": 9,
   "id": "eb581f56",
   "metadata": {},
   "outputs": [
    {
     "name": "stdout",
     "output_type": "stream",
     "text": [
      "Connected to the elasticsearch ✔\n",
      "{'cluster_name': 'elasticsearch',\n",
      " 'cluster_uuid': 'tdYmEtALQyuf5oSJGl74OQ',\n",
      " 'name': 'david-server',\n",
      " 'tagline': 'You Know, for Search',\n",
      " 'version': {'build_date': '2025-06-19T01:37:57.847711500Z',\n",
      "             'build_flavor': 'default',\n",
      "             'build_hash': '580aff1a0064ce4c93293aaab6fcc55e22c10d1c',\n",
      "             'build_snapshot': False,\n",
      "             'build_type': 'deb',\n",
      "             'lucene_version': '8.11.3',\n",
      "             'minimum_index_compatibility_version': '6.0.0-beta1',\n",
      "             'minimum_wire_compatibility_version': '6.8.0',\n",
      "             'number': '7.17.29'}}\n"
     ]
    }
   ],
   "source": [
    "# Connection to Elasticsearch \n",
    "from pprint import pprint\n",
    "from elasticsearch import Elasticsearch\n",
    "from config.development import Config\n",
    " \n",
    "es = Elasticsearch(\n",
    "    Config.ES_HOST, \n",
    "    verify_certs=True, \n",
    "    basic_auth=(Config.ES_USERNAME, Config.ES_PASSWORD)\n",
    ")\n",
    "\n",
    "client_info = es.info()\n",
    "print(\"Connected to the elasticsearch ✔\")\n",
    "pprint(client_info.body)"
   ]
  },
  {
   "cell_type": "code",
   "execution_count": 10,
   "id": "6a2f8a11",
   "metadata": {},
   "outputs": [
    {
     "data": {
      "text/plain": [
       "ObjectApiResponse({'acknowledged': True, 'shards_acknowledged': True, 'index': 'my_index'})"
      ]
     },
     "execution_count": 10,
     "metadata": {},
     "output_type": "execute_result"
    }
   ],
   "source": [
    "es.indices.delete(index=\"my_index\", ignore_unavailable=True)\n",
    "es.indices.create(index=\"my_index\")"
   ]
  },
  {
   "cell_type": "code",
   "execution_count": 11,
   "id": "e67d0660",
   "metadata": {},
   "outputs": [
    {
     "name": "stderr",
     "output_type": "stream",
     "text": [
      "100%|██████████| 5/5 [00:00<00:00, 31.04it/s]\n"
     ]
    }
   ],
   "source": [
    "# make a dummy_data.json file to insert multiple documents in the index. We stored the id of each document in \n",
    "# document_ids list\n",
    "import json \n",
    "from tqdm import tqdm \n",
    "\n",
    "document_ids = []\n",
    "dummy_data = json.load(open(\"../data/dummy_data.json\"))\n",
    "for document in tqdm(dummy_data, total=len(dummy_data)):\n",
    "    response = es.index(index=\"my_index\", body=document)\n",
    "    document_ids.append(response['_id'])"
   ]
  },
  {
   "cell_type": "code",
   "execution_count": 12,
   "id": "f1a54c01",
   "metadata": {},
   "outputs": [
    {
     "data": {
      "text/plain": [
       "['KO498ZkBtfwvgmKSGMEm',\n",
       " 'Ke498ZkBtfwvgmKSGMFj',\n",
       " 'Ku498ZkBtfwvgmKSGMF_',\n",
       " 'K-498ZkBtfwvgmKSGMGY',\n",
       " 'LO498ZkBtfwvgmKSGMGv']"
      ]
     },
     "execution_count": 12,
     "metadata": {},
     "output_type": "execute_result"
    }
   ],
   "source": [
    "document_ids"
   ]
  },
  {
   "cell_type": "markdown",
   "id": "675c6cd0",
   "metadata": {},
   "source": [
    "2. Delete Operation \n",
    "This is an example of successfull operation. If the ID exists in the document, delete operation wont return any error"
   ]
  },
  {
   "cell_type": "code",
   "execution_count": 13,
   "id": "90977680",
   "metadata": {},
   "outputs": [],
   "source": [
    "response = es.delete(index=\"my_index\", id=document_ids[0])"
   ]
  },
  {
   "cell_type": "code",
   "execution_count": 14,
   "id": "626e5d65",
   "metadata": {},
   "outputs": [
    {
     "name": "stdout",
     "output_type": "stream",
     "text": [
      "{'_id': 'KO498ZkBtfwvgmKSGMEm',\n",
      " '_index': 'my_index',\n",
      " '_primary_term': 1,\n",
      " '_seq_no': 5,\n",
      " '_shards': {'failed': 0, 'successful': 1, 'total': 2},\n",
      " '_type': '_doc',\n",
      " '_version': 2,\n",
      " 'result': 'deleted'}\n"
     ]
    }
   ],
   "source": [
    "from pprint import pprint\n",
    "pprint(response.body)"
   ]
  },
  {
   "cell_type": "code",
   "execution_count": 15,
   "id": "552eadc4",
   "metadata": {},
   "outputs": [
    {
     "name": "stdout",
     "output_type": "stream",
     "text": [
      "NotFoundError(404, \"{'_index': 'my_index', '_type': '_doc', '_id': '2', '_version': 1, 'result': 'not_found', '_shards': {'total': 2, 'successful': 1, 'failed': 0}, '_seq_no': 6, '_primary_term': 1}\")\n"
     ]
    }
   ],
   "source": [
    "try: \n",
    "    response = es.delete(index=\"my_index\", id=2)\n",
    "except Exception as e:\n",
    "    print(e)"
   ]
  },
  {
   "cell_type": "markdown",
   "id": "966d068b",
   "metadata": {},
   "source": []
  }
 ],
 "metadata": {
  "kernelspec": {
   "display_name": "venv (3.8.10)",
   "language": "python",
   "name": "python3"
  },
  "language_info": {
   "codemirror_mode": {
    "name": "ipython",
    "version": 3
   },
   "file_extension": ".py",
   "mimetype": "text/x-python",
   "name": "python",
   "nbconvert_exporter": "python",
   "pygments_lexer": "ipython3",
   "version": "3.8.10"
  }
 },
 "nbformat": 4,
 "nbformat_minor": 5
}
