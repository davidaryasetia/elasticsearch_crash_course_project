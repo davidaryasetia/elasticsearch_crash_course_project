{
 "cells": [
  {
   "cell_type": "markdown",
   "id": "ed8541d7",
   "metadata": {},
   "source": [
    "Connect to elasticsearch"
   ]
  },
  {
   "cell_type": "code",
   "execution_count": 8,
   "id": "acbce254",
   "metadata": {},
   "outputs": [
    {
     "name": "stdout",
     "output_type": "stream",
     "text": [
      "Connected to the elasticsearch ✔\n",
      "{'cluster_name': 'elasticsearch',\n",
      " 'cluster_uuid': 'tdYmEtALQyuf5oSJGl74OQ',\n",
      " 'name': 'david-server',\n",
      " 'tagline': 'You Know, for Search',\n",
      " 'version': {'build_date': '2025-06-19T01:37:57.847711500Z',\n",
      "             'build_flavor': 'default',\n",
      "             'build_hash': '580aff1a0064ce4c93293aaab6fcc55e22c10d1c',\n",
      "             'build_snapshot': False,\n",
      "             'build_type': 'deb',\n",
      "             'lucene_version': '8.11.3',\n",
      "             'minimum_index_compatibility_version': '6.0.0-beta1',\n",
      "             'minimum_wire_compatibility_version': '6.8.0',\n",
      "             'number': '7.17.29'}}\n"
     ]
    }
   ],
   "source": [
    "# Connection to Elasticsearch \n",
    "from pprint import pprint\n",
    "from elasticsearch import Elasticsearch\n",
    "from config.development import Config\n",
    "\n",
    "es = Elasticsearch(\n",
    "    Config.ES_HOST, \n",
    "    verify_certs=True, \n",
    "    basic_auth=(Config.ES_USERNAME, Config.ES_PASSWORD)\n",
    ")\n",
    "\n",
    "client_info = es.info()\n",
    "print(\"Connected to the elasticsearch ✔\")\n",
    "pprint(client_info.body)"
   ]
  },
  {
   "cell_type": "code",
   "execution_count": 9,
   "id": "342cb4c3",
   "metadata": {},
   "outputs": [
    {
     "data": {
      "text/plain": [
       "ObjectApiResponse({'acknowledged': True, 'shards_acknowledged': True, 'index': 'my_index'})"
      ]
     },
     "execution_count": 9,
     "metadata": {},
     "output_type": "execute_result"
    }
   ],
   "source": [
    "es.indices.delete(index=\"my_index\", ignore_unavailable=True)\n",
    "es.indices.create(index=\"my_index\")"
   ]
  },
  {
   "cell_type": "markdown",
   "id": "6e0b438d",
   "metadata": {},
   "source": [
    "Using a dummy_data.json file to insert multiple document in index. We stored the id of each document in document_id"
   ]
  },
  {
   "cell_type": "code",
   "execution_count": 10,
   "id": "03ebe5c9",
   "metadata": {},
   "outputs": [
    {
     "name": "stderr",
     "output_type": "stream",
     "text": [
      "100%|██████████| 5/5 [00:00<00:00, 30.21it/s]\n"
     ]
    }
   ],
   "source": [
    "import json\n",
    "from tqdm import tqdm\n",
    "\n",
    "document_ids = []\n",
    "dummy_data = json.load(open(\"../data/dummy_data.json\"))\n",
    "for document in tqdm(dummy_data, total=len(dummy_data)):\n",
    "    response = es.index(index=\"my_index\", body=document)\n",
    "    document_ids.append(response['_id'])"
   ]
  },
  {
   "cell_type": "code",
   "execution_count": 11,
   "id": "1a793ded",
   "metadata": {},
   "outputs": [
    {
     "data": {
      "text/plain": [
       "['Le498ZkBtfwvgmKSH8H_',\n",
       " 'Lu498ZkBtfwvgmKSIME6',\n",
       " 'L-498ZkBtfwvgmKSIMFU',\n",
       " 'MO498ZkBtfwvgmKSIMFx',\n",
       " 'Me498ZkBtfwvgmKSIMGL']"
      ]
     },
     "execution_count": 11,
     "metadata": {},
     "output_type": "execute_result"
    }
   ],
   "source": [
    "document_ids"
   ]
  },
  {
   "cell_type": "markdown",
   "id": "512828c3",
   "metadata": {},
   "source": [
    "Get Operation \n",
    "This is an example of successfull operation. If the ID exists in the document, to get operation wont return \n",
    "any error"
   ]
  },
  {
   "cell_type": "code",
   "execution_count": 12,
   "id": "c98bce37",
   "metadata": {},
   "outputs": [],
   "source": [
    "response = es.get(index=\"my_index\", id=document_ids[0])"
   ]
  },
  {
   "cell_type": "code",
   "execution_count": 13,
   "id": "9f39f6c3",
   "metadata": {},
   "outputs": [
    {
     "name": "stdout",
     "output_type": "stream",
     "text": [
      "{'_id': 'Le498ZkBtfwvgmKSH8H_',\n",
      " '_index': 'my_index',\n",
      " '_primary_term': 1,\n",
      " '_seq_no': 0,\n",
      " '_source': {'content': 'This is sample content first entry',\n",
      "             'created_on': '2023-10-01',\n",
      "             'title': 'Sample title 1'},\n",
      " '_type': '_doc',\n",
      " '_version': 1,\n",
      " 'found': True}\n"
     ]
    }
   ],
   "source": [
    "from pprint import pprint\n",
    "\n",
    "pprint(response.body)"
   ]
  },
  {
   "cell_type": "code",
   "execution_count": 14,
   "id": "a210ecc4",
   "metadata": {},
   "outputs": [],
   "source": [
    "# try: \n",
    "#     response = es.get(index=\"my_index\", _id=3)\n",
    "# except: \n",
    "#     print(e)"
   ]
  }
 ],
 "metadata": {
  "kernelspec": {
   "display_name": "venv (3.8.10)",
   "language": "python",
   "name": "python3"
  },
  "language_info": {
   "codemirror_mode": {
    "name": "ipython",
    "version": 3
   },
   "file_extension": ".py",
   "mimetype": "text/x-python",
   "name": "python",
   "nbconvert_exporter": "python",
   "pygments_lexer": "ipython3",
   "version": "3.8.10"
  }
 },
 "nbformat": 4,
 "nbformat_minor": 5
}
