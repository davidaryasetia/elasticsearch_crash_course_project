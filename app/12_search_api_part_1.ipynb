{
 "cells": [
  {
   "cell_type": "markdown",
   "id": "37357f21",
   "metadata": {},
   "source": [
    "How to perform the search api in the elasticsearch"
   ]
  },
  {
   "cell_type": "code",
   "execution_count": 1,
   "id": "a503761e",
   "metadata": {},
   "outputs": [
    {
     "name": "stdout",
     "output_type": "stream",
     "text": [
      "Connected to the elasticsearch ✔\n",
      "{'cluster_name': 'elasticsearch',\n",
      " 'cluster_uuid': 'tdYmEtALQyuf5oSJGl74OQ',\n",
      " 'name': 'david-server',\n",
      " 'tagline': 'You Know, for Search',\n",
      " 'version': {'build_date': '2025-06-19T01:37:57.847711500Z',\n",
      "             'build_flavor': 'default',\n",
      "             'build_hash': '580aff1a0064ce4c93293aaab6fcc55e22c10d1c',\n",
      "             'build_snapshot': False,\n",
      "             'build_type': 'deb',\n",
      "             'lucene_version': '8.11.3',\n",
      "             'minimum_index_compatibility_version': '6.0.0-beta1',\n",
      "             'minimum_wire_compatibility_version': '6.8.0',\n",
      "             'number': '7.17.29'}}\n"
     ]
    }
   ],
   "source": [
    "# Connect to the elasticsearch \n",
    "from pprint import pprint \n",
    "from elasticsearch import Elasticsearch\n",
    "from config.development import Config\n",
    "\n",
    "es = Elasticsearch(\n",
    "    Config.ES_HOST, \n",
    "    verify_certs=True, \n",
    "    basic_auth=(Config.ES_USERNAME, Config.ES_PASSWORD)\n",
    ")\n",
    "\n",
    "# client configuration\n",
    "client = es.info()\n",
    "print(\"Connected to the elasticsearch ✔\")\n",
    "pprint(client.body)\n"
   ]
  },
  {
   "cell_type": "code",
   "execution_count": 2,
   "id": "18987648",
   "metadata": {},
   "outputs": [
    {
     "data": {
      "text/plain": [
       "ObjectApiResponse({'acknowledged': True, 'shards_acknowledged': True, 'index': 'my_index'})"
      ]
     },
     "execution_count": 2,
     "metadata": {},
     "output_type": "execute_result"
    }
   ],
   "source": [
    "# Make a indices data document\n",
    "# index_1\n",
    "es.indices.delete(index=\"index_1\", ignore_unavailable=True)\n",
    "es.indices.create(index=\"index_1\")\n",
    "\n",
    "# index_2\n",
    "es.indices.delete(index=\"index_2\", ignore_unavailable=True)\n",
    "es.indices.create(index=\"index_2\")\n",
    "\n",
    "# index_3\n",
    "es.indices.delete(index=\"index_3\", ignore_unavailable=True)\n",
    "es.indices.create(index=\"index_3\")\n",
    "\n",
    "# index_4\n",
    "es.indices.delete(index=\"index_4\", ignore_unavailable=True)\n",
    "es.indices.create(index=\"index_4\")\n",
    "\n",
    "# my_index \n",
    "es.indices.delete(index=\"my_index\", ignore_unavailable=True)\n",
    "es.indices.create(index=\"my_index\")"
   ]
  },
  {
   "cell_type": "code",
   "execution_count": 3,
   "id": "032d2a98",
   "metadata": {},
   "outputs": [
    {
     "name": "stderr",
     "output_type": "stream",
     "text": [
      "100%|██████████| 5/5 [00:00<00:00, 12.04it/s]\n",
      "100%|██████████| 5/5 [00:00<00:00, 31.22it/s]\n",
      "100%|██████████| 5/5 [00:00<00:00, 32.52it/s]\n",
      "100%|██████████| 5/5 [00:00<00:00, 32.17it/s]\n",
      "100%|██████████| 5/5 [00:00<00:00, 26.58it/s]\n"
     ]
    }
   ],
   "source": [
    "\n",
    "# Insert dummy data from dummy_data.json\n",
    "import json \n",
    "from tqdm import tqdm \n",
    "\n",
    "dummy_data = json.load(open(\"../data/dummy_data.json\"))\n",
    "\n",
    "# Insert elasticsearch data \n",
    "for document in tqdm(dummy_data, total=len(dummy_data)):\n",
    "    response_index1 = es.index(index=\"index_1\", body=document)\n",
    "    \n",
    "for document in tqdm(dummy_data, total = len(dummy_data)):\n",
    "    response_index2 = es.index(index=\"index_2\", body=document)\n",
    "\n",
    "# Add the new index 3, and 4 \n",
    "for document in tqdm(dummy_data, total=len(dummy_data)): \n",
    "    response_index3 = es.index(index=\"index_3\", body=document)\n",
    "    \n",
    "for document in tqdm(dummy_data, total=len(dummy_data)): \n",
    "    response_index4 = es.index(index=\"index_4\", body=document)\n",
    "    \n",
    "# my_index insert data\n",
    "for document in tqdm(dummy_data, total=len(dummy_data)):\n",
    "    response_my_index = es.index(index=\"my_index\", body=document)"
   ]
  },
  {
   "cell_type": "markdown",
   "id": "af0a5d62",
   "metadata": {},
   "source": [
    "We can provide the perform search data index in here"
   ]
  },
  {
   "cell_type": "markdown",
   "id": "361a8d49",
   "metadata": {},
   "source": [
    "1.1 Perform search with 1 index, and query match_all"
   ]
  },
  {
   "cell_type": "code",
   "execution_count": 4,
   "id": "2a22d653",
   "metadata": {},
   "outputs": [
    {
     "name": "stdout",
     "output_type": "stream",
     "text": [
      "found the 5 document in here\n"
     ]
    }
   ],
   "source": [
    "# How to perform query search in index_1 to query match_all()\n",
    "# Search document in -> index_1\n",
    "response = es.search(\n",
    "    index=\"index_1\", \n",
    "    body = {\n",
    "        \"query\": {\n",
    "            \"match_all\": {}\n",
    "        }\n",
    "    }\n",
    ")\n",
    "\n",
    "counting_index_1 = response[\"hits\"][\"total\"][\"value\"]\n",
    "print(f\"found the {counting_index_1} document in here\")"
   ]
  },
  {
   "cell_type": "code",
   "execution_count": 5,
   "id": "98c9ea04",
   "metadata": {},
   "outputs": [
    {
     "name": "stdout",
     "output_type": "stream",
     "text": [
      "Found the total 0 data in index 2.\n"
     ]
    }
   ],
   "source": [
    "# How to perform the query search in index_2 to query match all\n",
    "# Search document in -> index_2\n",
    "\n",
    "response = es.search(\n",
    "    index = \"index_2\", \n",
    "    body = {\n",
    "        \"query\": {\n",
    "            \"match_all\": {}\n",
    "        }\n",
    "    }\n",
    ")\n",
    "\n",
    "# count data\n",
    "counting_index_2 = response[\"hits\"][\"total\"][\"value\"]\n",
    "print(f\"Found the total {counting_index_2} data in index 2.\")"
   ]
  },
  {
   "cell_type": "code",
   "execution_count": 6,
   "id": "0f1b0705",
   "metadata": {},
   "outputs": [
    {
     "name": "stdout",
     "output_type": "stream",
     "text": [
      "Total value document in both index_1 and index_2 is : 5\n"
     ]
    }
   ],
   "source": [
    "# Perform search with 2 indices index data => index_1, and index_2\n",
    "from pprint import pprint\n",
    "\n",
    "response = es.search(\n",
    "    index=\"index_1,index_2\", \n",
    "    body = {\n",
    "        \"query\": {\n",
    "            \"match_all\": {}\n",
    "        }\n",
    "    }\n",
    ")\n",
    "\n",
    "# We inspecting the response \n",
    "count_index_1_2 = response[\"hits\"][\"total\"][\"value\"]\n",
    "print(f\"Total value document in both index_1 and index_2 is : {count_index_1_2}\")"
   ]
  },
  {
   "cell_type": "code",
   "execution_count": 7,
   "id": "44e66740",
   "metadata": {},
   "outputs": [
    {
     "name": "stdout",
     "output_type": "stream",
     "text": [
      "Total count data is 5.\n"
     ]
    }
   ],
   "source": [
    "# How to perform query with index* -> all name first index will be execute\n",
    "from pprint import pprint\n",
    "\n",
    "response = es.search(\n",
    "    index = \"index*\", \n",
    "    body = {\n",
    "        \"query\": {\n",
    "            \"match_all\": {}\n",
    "        }\n",
    "    }\n",
    ")\n",
    "counting_data = response[\"hits\"][\"total\"][\"value\"]\n",
    "print(f\"Total count data is {counting_data}.\")"
   ]
  },
  {
   "cell_type": "markdown",
   "id": "cbd05a3f",
   "metadata": {},
   "source": [
    "Or to search all indices use _all."
   ]
  },
  {
   "cell_type": "code",
   "execution_count": 8,
   "id": "165d44d1",
   "metadata": {},
   "outputs": [
    {
     "name": "stdout",
     "output_type": "stream",
     "text": [
      "Total counting data is 10000.\n"
     ]
    },
    {
     "name": "stderr",
     "output_type": "stream",
     "text": [
      "C:\\Users\\David\\AppData\\Local\\Temp\\ipykernel_8604\\684737026.py:4: ElasticsearchWarning: this request accesses system indices: [.apm-agent-configuration, .apm-custom-link, .async-search, .kibana_7.17.29_001, .kibana_task_manager_7.17.29_001, .security-7, .tasks], but in a future major version, direct access to system indices will be prevented by default\n",
      "  response = es.search(\n"
     ]
    }
   ],
   "source": [
    "# How to perform query data with _all data\n",
    "from pprint import pprint \n",
    "\n",
    "response = es.search(\n",
    "    index = \"_all\", \n",
    "    body = {\n",
    "        \"query\": {\n",
    "            \"match_all\": {}\n",
    "        }\n",
    "    }\n",
    ")\n",
    "\n",
    "\n",
    "# counting data\n",
    "counting_all_data = response[\"hits\"][\"total\"][\"value\"]\n",
    "print(f\"Total counting data is {counting_all_data}.\")"
   ]
  }
 ],
 "metadata": {
  "kernelspec": {
   "display_name": "venv (3.8.10)",
   "language": "python",
   "name": "python3"
  },
  "language_info": {
   "codemirror_mode": {
    "name": "ipython",
    "version": 3
   },
   "file_extension": ".py",
   "mimetype": "text/x-python",
   "name": "python",
   "nbconvert_exporter": "python",
   "pygments_lexer": "ipython3",
   "version": "3.8.10"
  }
 },
 "nbformat": 4,
 "nbformat_minor": 5
}
