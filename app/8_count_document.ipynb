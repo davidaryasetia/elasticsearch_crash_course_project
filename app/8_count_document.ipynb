{
 "cells": [
  {
   "cell_type": "markdown",
   "id": "ed8541d7",
   "metadata": {},
   "source": [
    "Connect to elasticsearch"
   ]
  },
  {
   "cell_type": "code",
   "execution_count": 7,
   "id": "acbce254",
   "metadata": {},
   "outputs": [
    {
     "name": "stdout",
     "output_type": "stream",
     "text": [
      "Connected to the elasticsearch ✔\n",
      "{'cluster_name': 'elasticsearch',\n",
      " 'cluster_uuid': 'tdYmEtALQyuf5oSJGl74OQ',\n",
      " 'name': 'david-server',\n",
      " 'tagline': 'You Know, for Search',\n",
      " 'version': {'build_date': '2025-06-19T01:37:57.847711500Z',\n",
      "             'build_flavor': 'default',\n",
      "             'build_hash': '580aff1a0064ce4c93293aaab6fcc55e22c10d1c',\n",
      "             'build_snapshot': False,\n",
      "             'build_type': 'deb',\n",
      "             'lucene_version': '8.11.3',\n",
      "             'minimum_index_compatibility_version': '6.0.0-beta1',\n",
      "             'minimum_wire_compatibility_version': '6.8.0',\n",
      "             'number': '7.17.29'}}\n"
     ]
    }
   ],
   "source": [
    "# Connection to Elasticsearch \n",
    "from pprint import pprint\n",
    "from elasticsearch import Elasticsearch\n",
    "from config.development import Config\n",
    "\n",
    "es = Elasticsearch(\n",
    "    Config.ES_HOST, \n",
    "    verify_certs=True, \n",
    "    basic_auth=(Config.ES_USERNAME, Config.ES_PASSWORD)\n",
    ")\n",
    "\n",
    "client_info = es.info()\n",
    "print(\"Connected to the elasticsearch ✔\")\n",
    "pprint(client_info.body)"
   ]
  },
  {
   "cell_type": "code",
   "execution_count": 8,
   "id": "342cb4c3",
   "metadata": {},
   "outputs": [
    {
     "data": {
      "text/plain": [
       "ObjectApiResponse({'acknowledged': True, 'shards_acknowledged': True, 'index': 'my_index'})"
      ]
     },
     "execution_count": 8,
     "metadata": {},
     "output_type": "execute_result"
    }
   ],
   "source": [
    "es.indices.delete(index=\"my_index\", ignore_unavailable=True)\n",
    "es.indices.create(index=\"my_index\")"
   ]
  },
  {
   "cell_type": "markdown",
   "id": "6e0b438d",
   "metadata": {},
   "source": [
    "Using a dummy_data.json file to insert multiple document in index. We stored the id of each document in document_id"
   ]
  },
  {
   "cell_type": "code",
   "execution_count": 9,
   "id": "03ebe5c9",
   "metadata": {},
   "outputs": [
    {
     "name": "stderr",
     "output_type": "stream",
     "text": [
      "100%|██████████| 5/5 [00:00<00:00, 31.13it/s]\n"
     ]
    }
   ],
   "source": [
    "import json\n",
    "from tqdm import tqdm\n",
    "\n",
    "document_ids = []\n",
    "dummy_data = json.load(open(\"../data/dummy_data.json\"))\n",
    "for document in tqdm(dummy_data, total=len(dummy_data)):\n",
    "    response = es.index(index=\"my_index\", body=document)\n",
    "    document_ids.append(response['_id'])"
   ]
  },
  {
   "cell_type": "markdown",
   "id": "30054770",
   "metadata": {},
   "source": [
    "Count Operation"
   ]
  },
  {
   "cell_type": "code",
   "execution_count": 10,
   "id": "e7a66ac5",
   "metadata": {},
   "outputs": [
    {
     "name": "stdout",
     "output_type": "stream",
     "text": [
      "The number of count index is 0\n"
     ]
    }
   ],
   "source": [
    "response = es.count(index=\"my_index\")\n",
    "\n",
    "count = response[\"count\"]\n",
    "print(f\"The number of count index is {count}\")"
   ]
  },
  {
   "cell_type": "code",
   "execution_count": 11,
   "id": "744c212c",
   "metadata": {},
   "outputs": [
    {
     "data": {
      "text/plain": [
       "True"
      ]
     },
     "execution_count": 11,
     "metadata": {},
     "output_type": "execute_result"
    }
   ],
   "source": [
    "es.ping()"
   ]
  },
  {
   "cell_type": "markdown",
   "id": "426427ea",
   "metadata": {},
   "source": [
    "This example how to use the query parameter to match certain criteria data"
   ]
  },
  {
   "cell_type": "code",
   "execution_count": 12,
   "id": "22239d60",
   "metadata": {},
   "outputs": [
    {
     "name": "stdout",
     "output_type": "stream",
     "text": [
      "{'_shards': {'failed': 0, 'skipped': 0, 'successful': 1, 'total': 1},\n",
      " 'count': 0}\n",
      "Data count after filters range between is 0\n"
     ]
    }
   ],
   "source": [
    "# How to query data in elasticsearch \n",
    "query = {\n",
    "    \"range\": {\n",
    "        \"created_on\": {\n",
    "            \"gte\": \"2023-10-02\", \n",
    "            \"lte\": \"2023-10-03\", \n",
    "            \"format\": \"yyyy-MM-dd\"\n",
    "        }\n",
    "    }\n",
    "}\n",
    "\n",
    "response = es.count(index=\"my_index\", query=query)\n",
    "pprint(response.body)\n",
    "data_count = response[\"count\"]\n",
    "print(f\"Data count after filters range between is {data_count}\")"
   ]
  }
 ],
 "metadata": {
  "kernelspec": {
   "display_name": "venv (3.8.10)",
   "language": "python",
   "name": "python3"
  },
  "language_info": {
   "codemirror_mode": {
    "name": "ipython",
    "version": 3
   },
   "file_extension": ".py",
   "mimetype": "text/x-python",
   "name": "python",
   "nbconvert_exporter": "python",
   "pygments_lexer": "ipython3",
   "version": "3.8.10"
  }
 },
 "nbformat": 4,
 "nbformat_minor": 5
}
