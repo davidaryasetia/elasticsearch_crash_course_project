{
 "cells": [
  {
   "cell_type": "markdown",
   "id": "86d31627",
   "metadata": {},
   "source": [
    "Connect to the Elasticsearch"
   ]
  },
  {
   "cell_type": "code",
   "execution_count": 1,
   "id": "0a36c004",
   "metadata": {},
   "outputs": [
    {
     "name": "stdout",
     "output_type": "stream",
     "text": [
      "Connected to the elasticsearch server ✔\n",
      "{'cluster_name': 'elasticsearch',\n",
      " 'cluster_uuid': 'tdYmEtALQyuf5oSJGl74OQ',\n",
      " 'name': 'david-server',\n",
      " 'tagline': 'You Know, for Search',\n",
      " 'version': {'build_date': '2025-06-19T01:37:57.847711500Z',\n",
      "             'build_flavor': 'default',\n",
      "             'build_hash': '580aff1a0064ce4c93293aaab6fcc55e22c10d1c',\n",
      "             'build_snapshot': False,\n",
      "             'build_type': 'deb',\n",
      "             'lucene_version': '8.11.3',\n",
      "             'minimum_index_compatibility_version': '6.0.0-beta1',\n",
      "             'minimum_wire_compatibility_version': '6.8.0',\n",
      "             'number': '7.17.29'}}\n"
     ]
    }
   ],
   "source": [
    "from pprint import pprint\n",
    "from elasticsearch import Elasticsearch\n",
    "from config.development import Config\n",
    "\n",
    "es = Elasticsearch(\n",
    "    Config.ES_HOST, \n",
    "    verify_certs=True, \n",
    "    basic_auth=(Config.ES_USERNAME, Config.ES_PASSWORD)\n",
    ")\n",
    "\n",
    "client = es.info()\n",
    "print(\"Connected to the elasticsearch server ✔\")\n",
    "pprint(client.body)\n"
   ]
  },
  {
   "cell_type": "code",
   "execution_count": 2,
   "id": "99c13545",
   "metadata": {},
   "outputs": [
    {
     "data": {
      "text/plain": [
       "ObjectApiResponse({'acknowledged': True, 'shards_acknowledged': True, 'index': 'my_index'})"
      ]
     },
     "execution_count": 2,
     "metadata": {},
     "output_type": "execute_result"
    }
   ],
   "source": [
    "es.indices.delete(index=\"my_index\", ignore_unavailable=True)\n",
    "es.indices.create(index=\"my_index\")"
   ]
  },
  {
   "cell_type": "code",
   "execution_count": 3,
   "id": "c3e027d5",
   "metadata": {},
   "outputs": [
    {
     "name": "stderr",
     "output_type": "stream",
     "text": [
      "100%|██████████| 5/5 [00:00<00:00, 28.00it/s]\n"
     ]
    }
   ],
   "source": [
    "import json \n",
    "from tqdm import tqdm \n",
    "\n",
    "document_ids = []\n",
    "dummy_data = json.load(open(\"../data/dummy_data.json\"))\n",
    "\n",
    "for document in tqdm(dummy_data, total=len(dummy_data)): \n",
    "    response = es.index(index=\"my_index\", body=document)\n",
    "    document_ids.append(response['_id']) "
   ]
  },
  {
   "cell_type": "code",
   "execution_count": 4,
   "id": "f616d98f",
   "metadata": {},
   "outputs": [
    {
     "data": {
      "text/plain": [
       "['ze4d8ZkBtfwvgmKSmcCe',\n",
       " 'zu4d8ZkBtfwvgmKSmcDl',\n",
       " 'z-4d8ZkBtfwvgmKSmcD9',\n",
       " '0O4d8ZkBtfwvgmKSmsAf',\n",
       " '0e4d8ZkBtfwvgmKSmsA4']"
      ]
     },
     "execution_count": 4,
     "metadata": {},
     "output_type": "execute_result"
    }
   ],
   "source": [
    "document_ids"
   ]
  },
  {
   "cell_type": "markdown",
   "id": "5f632d48",
   "metadata": {},
   "source": [
    "1. If the document exists in the index"
   ]
  },
  {
   "cell_type": "code",
   "execution_count": 5,
   "id": "f64cd4f5",
   "metadata": {},
   "outputs": [
    {
     "name": "stdout",
     "output_type": "stream",
     "text": [
      "{'_id': 'ze4d8ZkBtfwvgmKSmcCe',\n",
      " '_index': 'my_index',\n",
      " '_primary_term': 1,\n",
      " '_seq_no': 0,\n",
      " '_source': {'content': 'This is sample content first entry',\n",
      "             'created_on': '2023-10-01',\n",
      "             'title': 'Sample title 1'},\n",
      " '_type': '_doc',\n",
      " '_version': 1,\n",
      " 'found': True}\n"
     ]
    }
   ],
   "source": [
    "# Prnt again the document data in here \n",
    "response = es.get(index=\"my_index\", id=document_ids[0])\n",
    "pprint(response.body)"
   ]
  },
  {
   "cell_type": "markdown",
   "id": "5fe986c3",
   "metadata": {},
   "source": [
    "1.1. Update an existing fields"
   ]
  },
  {
   "cell_type": "code",
   "execution_count": 6,
   "id": "7117501a",
   "metadata": {},
   "outputs": [
    {
     "name": "stdout",
     "output_type": "stream",
     "text": [
      "{'_id': 'ze4d8ZkBtfwvgmKSmcCe',\n",
      " '_index': 'my_index',\n",
      " '_primary_term': 1,\n",
      " '_seq_no': 5,\n",
      " '_shards': {'failed': 0, 'successful': 1, 'total': 2},\n",
      " '_type': '_doc',\n",
      " '_version': 2,\n",
      " 'result': 'updated'}\n"
     ]
    }
   ],
   "source": [
    "# How to perform an update document \n",
    "response = es.update(\n",
    "    index=\"my_index\", \n",
    "    id = document_ids[0], \n",
    "    script = {\n",
    "        \"source\": \"ctx._source.content = params.content\", \n",
    "        \"source\": \"ctx._source.created_on = params.created_on\", \n",
    "        \"source\": \"ctx._source.title = params.title\",\n",
    "        # I want to updated the multiple context params\n",
    "        \"params\": {\n",
    "            \"content\": \"Updated new content with new context\"\n",
    "        }, \n",
    "        \"params\": {\n",
    "            \"title\": \"New Updated In here\"\n",
    "        }, \n",
    "        \"params\": {\n",
    "            \"created_on\": \"2025-10-10\"\n",
    "        }\n",
    "    }\n",
    ")\n",
    "\n",
    "pprint(response.body)"
   ]
  },
  {
   "cell_type": "code",
   "execution_count": 7,
   "id": "d19de7ab",
   "metadata": {},
   "outputs": [
    {
     "name": "stdout",
     "output_type": "stream",
     "text": [
      "{'_id': 'ze4d8ZkBtfwvgmKSmcCe',\n",
      " '_index': 'my_index',\n",
      " '_primary_term': 1,\n",
      " '_seq_no': 5,\n",
      " '_source': {'content': 'This is sample content first entry',\n",
      "             'created_on': '2023-10-01',\n",
      "             'title': None},\n",
      " '_type': '_doc',\n",
      " '_version': 2,\n",
      " 'found': True}\n"
     ]
    }
   ],
   "source": [
    "from pprint import pprint\n",
    "response = es.get(index=\"my_index\", id = document_ids[0])\n",
    "pprint(response.body)"
   ]
  },
  {
   "cell_type": "markdown",
   "id": "662846df",
   "metadata": {},
   "source": [
    "1.2 Add a new field in the document"
   ]
  },
  {
   "cell_type": "markdown",
   "id": "e0ef57f4",
   "metadata": {},
   "source": [
    "1.2.1 New Field Method"
   ]
  },
  {
   "cell_type": "code",
   "execution_count": 8,
   "id": "10cdb051",
   "metadata": {},
   "outputs": [
    {
     "name": "stdout",
     "output_type": "stream",
     "text": [
      "{'_id': 'ze4d8ZkBtfwvgmKSmcCe',\n",
      " '_index': 'my_index',\n",
      " '_primary_term': 1,\n",
      " '_seq_no': 6,\n",
      " '_shards': {'failed': 0, 'successful': 1, 'total': 2},\n",
      " '_type': '_doc',\n",
      " '_version': 3,\n",
      " 'result': 'updated'}\n"
     ]
    }
   ],
   "source": [
    "# How to perform add new field in the document \n",
    "response = es.update(\n",
    "    index=\"my_index\", \n",
    "    id = document_ids[0], \n",
    "    script = {\n",
    "        \"source\": \"ctx._source.newfield = 'add new field dummy data'\", \n",
    "    }\n",
    ")\n",
    "\n",
    "pprint(response.body)"
   ]
  },
  {
   "cell_type": "code",
   "execution_count": 9,
   "id": "972c5d71",
   "metadata": {},
   "outputs": [
    {
     "name": "stdout",
     "output_type": "stream",
     "text": [
      "{'_id': 'ze4d8ZkBtfwvgmKSmcCe',\n",
      " '_index': 'my_index',\n",
      " '_primary_term': 1,\n",
      " '_seq_no': 6,\n",
      " '_source': {'content': 'This is sample content first entry',\n",
      "             'created_on': '2023-10-01',\n",
      "             'newfield': 'add new field dummy data',\n",
      "             'title': None},\n",
      " '_type': '_doc',\n",
      " '_version': 3,\n",
      " 'found': True}\n"
     ]
    }
   ],
   "source": [
    "# Look and response in here \n",
    "response = es.get(index=\"my_index\", id=document_ids[0])\n",
    "pprint(response.body)"
   ]
  },
  {
   "cell_type": "markdown",
   "id": "a5b518a7",
   "metadata": {},
   "source": [
    "We can Add new index also with the doc = {}"
   ]
  },
  {
   "cell_type": "code",
   "execution_count": 10,
   "id": "ded83132",
   "metadata": {},
   "outputs": [
    {
     "name": "stdout",
     "output_type": "stream",
     "text": [
      "ObjectApiResponse({'_index': 'my_index', '_type': '_doc', '_id': 'ze4d8ZkBtfwvgmKSmcCe', '_version': 4, 'result': 'updated', '_shards': {'total': 2, 'successful': 1, 'failed': 0}, '_seq_no': 7, '_primary_term': 1})\n"
     ]
    }
   ],
   "source": [
    "response = es.update(\n",
    "    index=\"my_index\", \n",
    "    id = document_ids[0], \n",
    "    doc = {\n",
    "        \"Field 1\": \"new field in here 1\", \n",
    "        \"Field 2\": \"new field in here 2\"\n",
    "    }\n",
    ")\n",
    "\n",
    "pprint(response)"
   ]
  },
  {
   "cell_type": "code",
   "execution_count": 11,
   "id": "bedd4c98",
   "metadata": {},
   "outputs": [
    {
     "name": "stdout",
     "output_type": "stream",
     "text": [
      "{'_id': 'ze4d8ZkBtfwvgmKSmcCe',\n",
      " '_index': 'my_index',\n",
      " '_primary_term': 1,\n",
      " '_seq_no': 7,\n",
      " '_source': {'Field 1': 'new field in here 1',\n",
      "             'Field 2': 'new field in here 2',\n",
      "             'content': 'This is sample content first entry',\n",
      "             'created_on': '2023-10-01',\n",
      "             'newfield': 'add new field dummy data',\n",
      "             'title': None},\n",
      " '_type': '_doc',\n",
      " '_version': 4,\n",
      " 'found': True}\n"
     ]
    }
   ],
   "source": [
    "# Print the data result in here \n",
    "response = es.get(index=\"my_index\", id=document_ids[0])\n",
    "pprint(response.body)"
   ]
  },
  {
   "cell_type": "markdown",
   "id": "94a08613",
   "metadata": {},
   "source": [
    "How to perform an remove an index file is "
   ]
  },
  {
   "cell_type": "code",
   "execution_count": 12,
   "id": "50681711",
   "metadata": {},
   "outputs": [
    {
     "name": "stdout",
     "output_type": "stream",
     "text": [
      "{'_id': 'ze4d8ZkBtfwvgmKSmcCe',\n",
      " '_index': 'my_index',\n",
      " '_primary_term': 1,\n",
      " '_seq_no': 8,\n",
      " '_shards': {'failed': 0, 'successful': 1, 'total': 2},\n",
      " '_type': '_doc',\n",
      " '_version': 5,\n",
      " 'result': 'updated'}\n"
     ]
    }
   ],
   "source": [
    "# Perform and remove index I will remove in here \n",
    "response = es.update(\n",
    "    index=\"my_index\", \n",
    "    id = document_ids[0], \n",
    "    script = {\n",
    "        \"source\": \"ctx._source.remove('Field 1')\", \n",
    "        \"source\": \"ctx._source.remove('Field 2')\"\n",
    "    }\n",
    ")\n",
    "\n",
    "pprint(response.body)\n"
   ]
  },
  {
   "cell_type": "code",
   "execution_count": 13,
   "id": "0521fb1d",
   "metadata": {},
   "outputs": [
    {
     "name": "stdout",
     "output_type": "stream",
     "text": [
      "{'_id': 'ze4d8ZkBtfwvgmKSmcCe',\n",
      " '_index': 'my_index',\n",
      " '_primary_term': 1,\n",
      " '_seq_no': 8,\n",
      " '_source': {'Field 1': 'new field in here 1',\n",
      "             'content': 'This is sample content first entry',\n",
      "             'created_on': '2023-10-01',\n",
      "             'newfield': 'add new field dummy data',\n",
      "             'title': None},\n",
      " '_type': '_doc',\n",
      " '_version': 5,\n",
      " 'found': True}\n"
     ]
    }
   ],
   "source": [
    "# Print the response data in here \n",
    "response = es.get(index=\"my_index\", id = document_ids[0])\n",
    "pprint(response.body)"
   ]
  },
  {
   "cell_type": "code",
   "execution_count": 14,
   "id": "630b306f",
   "metadata": {},
   "outputs": [
    {
     "data": {
      "text/plain": [
       "['ze4d8ZkBtfwvgmKSmcCe',\n",
       " 'zu4d8ZkBtfwvgmKSmcDl',\n",
       " 'z-4d8ZkBtfwvgmKSmcD9',\n",
       " '0O4d8ZkBtfwvgmKSmsAf',\n",
       " '0e4d8ZkBtfwvgmKSmsA4']"
      ]
     },
     "execution_count": 14,
     "metadata": {},
     "output_type": "execute_result"
    }
   ],
   "source": [
    "document_ids"
   ]
  },
  {
   "cell_type": "markdown",
   "id": "bc8a906d",
   "metadata": {},
   "source": [
    "Performs the updated data, if the document is'nt not exist."
   ]
  },
  {
   "cell_type": "code",
   "execution_count": 15,
   "id": "e24aef7a",
   "metadata": {},
   "outputs": [
    {
     "name": "stdout",
     "output_type": "stream",
     "text": [
      "{'_id': '1',\n",
      " '_index': 'my_index',\n",
      " '_primary_term': 1,\n",
      " '_seq_no': 9,\n",
      " '_shards': {'failed': 0, 'successful': 1, 'total': 2},\n",
      " '_type': '_doc',\n",
      " '_version': 1,\n",
      " 'result': 'created'}\n"
     ]
    }
   ],
   "source": [
    "from pprint import pprint\n",
    "\n",
    "response = es.update(\n",
    "    index = \"my_index\", \n",
    "    id = 1, \n",
    "    doc = {\n",
    "        \"body 1\": \"Get the body 1\", \n",
    "        \"body 2\": \"Get the body 2\"\n",
    "    },\n",
    "    doc_as_upsert= True, \n",
    ")\n",
    "\n",
    "pprint(response.body)"
   ]
  },
  {
   "cell_type": "code",
   "execution_count": 16,
   "id": "a3e7fae0",
   "metadata": {},
   "outputs": [
    {
     "name": "stdout",
     "output_type": "stream",
     "text": [
      "{'_id': '1',\n",
      " '_index': 'my_index',\n",
      " '_primary_term': 1,\n",
      " '_seq_no': 9,\n",
      " '_source': {'body 1': 'Get the body 1', 'body 2': 'Get the body 2'},\n",
      " '_type': '_doc',\n",
      " '_version': 1,\n",
      " 'found': True}\n",
      "Result of data counting  0\n"
     ]
    }
   ],
   "source": [
    "# Perfrom and look the response of the data \n",
    "from pprint import pprint\n",
    "data_result = es.get(index=\"my_index\", id=1)\n",
    "pprint(data_result.body)\n",
    "\n",
    "# Count of the dat \n",
    "data_count = es.count(index=\"my_index\")\n",
    "result = data_count['count']\n",
    "print(f\"Result of data counting \", result)"
   ]
  }
 ],
 "metadata": {
  "kernelspec": {
   "display_name": "venv (3.8.10)",
   "language": "python",
   "name": "python3"
  },
  "language_info": {
   "codemirror_mode": {
    "name": "ipython",
    "version": 3
   },
   "file_extension": ".py",
   "mimetype": "text/x-python",
   "name": "python",
   "nbconvert_exporter": "python",
   "pygments_lexer": "ipython3",
   "version": "3.8.10"
  }
 },
 "nbformat": 4,
 "nbformat_minor": 5
}
