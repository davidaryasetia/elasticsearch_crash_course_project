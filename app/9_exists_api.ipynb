{
 "cells": [
  {
   "cell_type": "markdown",
   "id": "86d31627",
   "metadata": {},
   "source": [
    "Connect to the Elasticsearch"
   ]
  },
  {
   "cell_type": "code",
   "execution_count": 8,
   "id": "0a36c004",
   "metadata": {},
   "outputs": [
    {
     "name": "stdout",
     "output_type": "stream",
     "text": [
      "Connected to the elasticsearch server ✔\n",
      "{'cluster_name': 'elasticsearch',\n",
      " 'cluster_uuid': 'tdYmEtALQyuf5oSJGl74OQ',\n",
      " 'name': 'david-server',\n",
      " 'tagline': 'You Know, for Search',\n",
      " 'version': {'build_date': '2025-06-19T01:37:57.847711500Z',\n",
      "             'build_flavor': 'default',\n",
      "             'build_hash': '580aff1a0064ce4c93293aaab6fcc55e22c10d1c',\n",
      "             'build_snapshot': False,\n",
      "             'build_type': 'deb',\n",
      "             'lucene_version': '8.11.3',\n",
      "             'minimum_index_compatibility_version': '6.0.0-beta1',\n",
      "             'minimum_wire_compatibility_version': '6.8.0',\n",
      "             'number': '7.17.29'}}\n"
     ]
    }
   ],
   "source": [
    "from pprint import pprint\n",
    "from elasticsearch import Elasticsearch\n",
    "from config.development import Config\n",
    "\n",
    "es = Elasticsearch(\n",
    "    Config.ES_HOST, \n",
    "    verify_certs=True, \n",
    "    basic_auth=(Config.ES_USERNAME, Config.ES_PASSWORD)\n",
    ")\n",
    "\n",
    "client = es.info()\n",
    "print(\"Connected to the elasticsearch server ✔\")\n",
    "pprint(client.body)\n"
   ]
  },
  {
   "cell_type": "code",
   "execution_count": 9,
   "id": "99c13545",
   "metadata": {},
   "outputs": [
    {
     "data": {
      "text/plain": [
       "ObjectApiResponse({'acknowledged': True, 'shards_acknowledged': True, 'index': 'my_index'})"
      ]
     },
     "execution_count": 9,
     "metadata": {},
     "output_type": "execute_result"
    }
   ],
   "source": [
    "es.indices.delete(index=\"my_index\", ignore_unavailable=True)\n",
    "es.indices.create(index=\"my_index\")"
   ]
  },
  {
   "cell_type": "code",
   "execution_count": 10,
   "id": "c3e027d5",
   "metadata": {},
   "outputs": [
    {
     "name": "stderr",
     "output_type": "stream",
     "text": [
      "100%|██████████| 5/5 [00:00<00:00, 30.73it/s]\n"
     ]
    }
   ],
   "source": [
    "import json \n",
    "from tqdm import tqdm \n",
    "\n",
    "document_ids = []\n",
    "dummy_data = json.load(open(\"../data/dummy_data.json\"))\n",
    "\n",
    "for document in tqdm(dummy_data, total=len(dummy_data)): \n",
    "    response = es.index(index=\"my_index\", body=document)\n",
    "    document_ids.append(response['_id']) "
   ]
  },
  {
   "cell_type": "code",
   "execution_count": 11,
   "id": "f616d98f",
   "metadata": {},
   "outputs": [
    {
     "data": {
      "text/plain": [
       "['N-498ZkBtfwvgmKSM8Gy',\n",
       " 'OO498ZkBtfwvgmKSM8Hu',\n",
       " 'Oe498ZkBtfwvgmKSNMEH',\n",
       " 'Ou498ZkBtfwvgmKSNMEi',\n",
       " 'O-498ZkBtfwvgmKSNME7']"
      ]
     },
     "execution_count": 11,
     "metadata": {},
     "output_type": "execute_result"
    }
   ],
   "source": [
    "document_ids"
   ]
  },
  {
   "cell_type": "markdown",
   "id": "6bd9cfbf",
   "metadata": {},
   "source": [
    "Exists API "
   ]
  },
  {
   "cell_type": "markdown",
   "id": "5f632d48",
   "metadata": {},
   "source": [
    "1.1 Check The index if existence"
   ]
  },
  {
   "cell_type": "code",
   "execution_count": 12,
   "id": "4e515c3b",
   "metadata": {},
   "outputs": [
    {
     "data": {
      "text/plain": [
       "True"
      ]
     },
     "execution_count": 12,
     "metadata": {},
     "output_type": "execute_result"
    }
   ],
   "source": [
    "response = es.indices.exists(index=\"my_index\")\n",
    "response.body"
   ]
  },
  {
   "cell_type": "markdown",
   "id": "864f79d2",
   "metadata": {},
   "source": [
    "1.2 Check The document is exist."
   ]
  },
  {
   "cell_type": "code",
   "execution_count": 13,
   "id": "776b527c",
   "metadata": {},
   "outputs": [
    {
     "data": {
      "text/plain": [
       "True"
      ]
     },
     "execution_count": 13,
     "metadata": {},
     "output_type": "execute_result"
    }
   ],
   "source": [
    "response = es.exists(index=\"my_index\", id=document_ids[0])\n",
    "response.body"
   ]
  },
  {
   "cell_type": "code",
   "execution_count": 14,
   "id": "c7738170",
   "metadata": {},
   "outputs": [
    {
     "data": {
      "text/plain": [
       "False"
      ]
     },
     "execution_count": 14,
     "metadata": {},
     "output_type": "execute_result"
    }
   ],
   "source": [
    "response = es.exists(index=\"my_index\", id = \"id\")\n",
    "response.body"
   ]
  }
 ],
 "metadata": {
  "kernelspec": {
   "display_name": "venv (3.8.10)",
   "language": "python",
   "name": "python3"
  },
  "language_info": {
   "codemirror_mode": {
    "name": "ipython",
    "version": 3
   },
   "file_extension": ".py",
   "mimetype": "text/x-python",
   "name": "python",
   "nbconvert_exporter": "python",
   "pygments_lexer": "ipython3",
   "version": "3.8.10"
  }
 },
 "nbformat": 4,
 "nbformat_minor": 5
}
